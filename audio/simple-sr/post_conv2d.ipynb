{
 "cells": [
  {
   "cell_type": "markdown",
   "id": "ebb56f7f-c3aa-418f-a9b4-baec55e62399",
   "metadata": {},
   "source": [
    "# Implement Post Conv2D Layers"
   ]
  },
  {
   "cell_type": "code",
   "execution_count": 1,
   "id": "482dfd5c-2feb-453d-8c18-585647d3a44c",
   "metadata": {},
   "outputs": [
    {
     "name": "stderr",
     "output_type": "stream",
     "text": [
      "2024-04-28 11:06:16.552647: I tensorflow/core/platform/cpu_feature_guard.cc:182] This TensorFlow binary is optimized to use available CPU instructions in performance-critical operations.\n",
      "To enable the following instructions: SSE4.1 SSE4.2 AVX AVX2 FMA, in other operations, rebuild TensorFlow with the appropriate compiler flags.\n"
     ]
    }
   ],
   "source": [
    "import pathlib\n",
    "import numpy as np\n",
    "import math\n",
    "import h5py\n",
    "from datetime import datetime\n",
    "\n",
    "import tensorflow as tf \n",
    "from tensorflow.keras import layers"
   ]
  },
  {
   "cell_type": "code",
   "execution_count": 2,
   "id": "7f157cc9-7844-4269-b9a9-f6e722495118",
   "metadata": {},
   "outputs": [],
   "source": [
    "data_dir = pathlib.Path('data')"
   ]
  },
  {
   "cell_type": "code",
   "execution_count": 3,
   "id": "990b030c-3221-4c26-b3f8-4a4173c8b27b",
   "metadata": {},
   "outputs": [],
   "source": [
    "def get_waveform(wavfile):\n",
    "    x = tf.io.read_file(str(wavfile))\n",
    "    x, sample_rate = tf.audio.decode_wav(x, desired_channels=1, desired_samples=16000)\n",
    "    return tf.squeeze(x, axis=-1)\n",
    "\n",
    "\n",
    "def get_spectrogram(waveform):\n",
    "    # Convert the waveform to a spectrogram via a STFT\n",
    "    spectrogram = tf.signal.stft(waveform, frame_length=255, frame_step=128)\n",
    "\n",
    "    # Obtain the magnitude of the STFT\n",
    "    spectrogram = tf.abs(spectrogram)\n",
    "\n",
    "    # Add a 'channels' dimension, so that the spectrogram can be used as an\n",
    "    # image-like input data w/ convolution layers, which expect shape\n",
    "    # (batch_size, height, width, channels)\n",
    "    spectrogram = spectrogram[..., tf.newaxis]\n",
    "    return spectrogram\n",
    "\n",
    "def relu(x):\n",
    "    return x.clip(0.0)"
   ]
  },
  {
   "cell_type": "markdown",
   "id": "20ddf515-4345-4e97-a93b-53096467696f",
   "metadata": {},
   "source": [
    "## Get the input data"
   ]
  },
  {
   "cell_type": "code",
   "execution_count": 4,
   "id": "019e1e30-6f1c-44d0-bfca-7298e694b837",
   "metadata": {},
   "outputs": [
    {
     "data": {
      "text/plain": [
       "(TensorShape([1, 124, 129, 1]),\n",
       " <tf.Tensor: shape=(10, 1), dtype=float32, numpy=\n",
       " array([[0.00087561],\n",
       "        [0.00134371],\n",
       "        [0.00557508],\n",
       "        [0.01203688],\n",
       "        [0.01582851],\n",
       "        [0.01979508],\n",
       "        [0.03313684],\n",
       "        [0.05369601],\n",
       "        [0.05009932],\n",
       "        [0.03737277]], dtype=float32)>)"
      ]
     },
     "execution_count": 4,
     "metadata": {},
     "output_type": "execute_result"
    }
   ],
   "source": [
    "waveform = get_waveform(data_dir/'yes.wav')\n",
    "spec = get_spectrogram(waveform)\n",
    "input_data = spec[tf.newaxis,...]\n",
    "input_data.shape, input_data[0,0,:10,:]"
   ]
  },
  {
   "cell_type": "markdown",
   "id": "2e3368ac-88e6-4985-8d3c-730ed50d6182",
   "metadata": {},
   "source": [
    "## Load the model"
   ]
  },
  {
   "cell_type": "code",
   "execution_count": 5,
   "id": "12423f86-4a0d-434e-a592-92519ca3a2b4",
   "metadata": {},
   "outputs": [
    {
     "name": "stdout",
     "output_type": "stream",
     "text": [
      "Model: \"sequential\"\n",
      "_________________________________________________________________\n",
      " Layer (type)                Output Shape              Param #   \n",
      "=================================================================\n",
      " resizing (Resizing)         (None, 32, 32, 1)         0         \n",
      "                                                                 \n",
      " normalization (Normalizatio  (None, 32, 32, 1)        3         \n",
      " n)                                                              \n",
      "                                                                 \n",
      " conv2d (Conv2D)             (None, 30, 30, 32)        320       \n",
      "                                                                 \n",
      " conv2d_1 (Conv2D)           (None, 28, 28, 64)        18496     \n",
      "                                                                 \n",
      " max_pooling2d (MaxPooling2D  (None, 14, 14, 64)       0         \n",
      " )                                                               \n",
      "                                                                 \n",
      " dropout (Dropout)           (None, 14, 14, 64)        0         \n",
      "                                                                 \n",
      " flatten (Flatten)           (None, 12544)             0         \n",
      "                                                                 \n",
      " dense (Dense)               (None, 128)               1605760   \n",
      "                                                                 \n",
      " dropout_1 (Dropout)         (None, 128)               0         \n",
      "                                                                 \n",
      " dense_1 (Dense)             (None, 8)                 1032      \n",
      "                                                                 \n",
      "=================================================================\n",
      "Total params: 1,625,611\n",
      "Trainable params: 1,625,608\n",
      "Non-trainable params: 3\n",
      "_________________________________________________________________\n"
     ]
    }
   ],
   "source": [
    "h5_model = tf.keras.models.load_model('simple-sr.h5')\n",
    "h5_model.summary()"
   ]
  },
  {
   "cell_type": "markdown",
   "id": "0d70c55c-075c-43d9-bd09-18de0275eac8",
   "metadata": {},
   "source": [
    "## Run through the Conv2D layers"
   ]
  },
  {
   "cell_type": "code",
   "execution_count": 6,
   "id": "382bed6e-bc53-4d3f-8901-f2304e95db54",
   "metadata": {},
   "outputs": [],
   "source": [
    "# Downsample the input\n",
    "l1 = h5_model.layers[0]\n",
    "l1_out = l1(input_data)\n",
    "\n",
    "# Normalize\n",
    "l2 = h5_model.layers[1]\n",
    "l2_out = l2(l1_out.numpy())\n",
    "\n",
    "# Conv2D\n",
    "l3 = h5_model.layers[2]\n",
    "l3_out = l3(l2_out.numpy())\n",
    "\n",
    "# Conv2D 1\n",
    "l4 = h5_model.layers[3]\n",
    "l4_out = l4(l3_out.numpy())"
   ]
  },
  {
   "cell_type": "code",
   "execution_count": 7,
   "id": "482052f7-91d3-42a1-a092-a6f545325e1e",
   "metadata": {},
   "outputs": [
    {
     "name": "stdout",
     "output_type": "stream",
     "text": [
      "(1, 28, 28, 64)\n"
     ]
    },
    {
     "data": {
      "text/plain": [
       "<tf.Tensor: shape=(64,), dtype=float32, numpy=\n",
       "array([0.        , 0.13606277, 0.1669277 , 0.        , 0.02371086,\n",
       "       0.        , 0.        , 0.02051658, 0.        , 0.        ,\n",
       "       0.        , 0.01705355, 0.        , 0.        , 0.        ,\n",
       "       0.        , 0.        , 0.        , 0.        , 0.        ,\n",
       "       0.        , 0.01502133, 0.        , 0.2531605 , 0.        ,\n",
       "       0.        , 0.        , 0.        , 0.        , 0.        ,\n",
       "       0.        , 0.        , 0.        , 0.        , 0.        ,\n",
       "       0.185608  , 0.        , 0.        , 0.        , 0.14853501,\n",
       "       0.19258422, 0.19711518, 0.2783924 , 0.        , 0.        ,\n",
       "       0.        , 0.06133013, 0.        , 0.        , 0.        ,\n",
       "       0.        , 0.        , 0.        , 0.        , 0.        ,\n",
       "       0.1239159 , 0.00247141, 0.31450033, 0.        , 0.        ,\n",
       "       0.        , 0.        , 0.        , 0.1799986 ], dtype=float32)>"
      ]
     },
     "execution_count": 7,
     "metadata": {},
     "output_type": "execute_result"
    }
   ],
   "source": [
    "print(l4_out.shape)\n",
    "l4_out[0,0,0,:]"
   ]
  },
  {
   "cell_type": "markdown",
   "id": "c27fd00a-c66c-4d08-b242-a4ec987082b8",
   "metadata": {},
   "source": [
    "## MaxPooling2D"
   ]
  },
  {
   "cell_type": "markdown",
   "id": "c2157ed6-5723-44e4-8b7b-5e59fd9b5131",
   "metadata": {},
   "source": [
    "### TF model output"
   ]
  },
  {
   "cell_type": "code",
   "execution_count": 8,
   "id": "723a1da3-5411-45c7-85ef-b1392457e9e8",
   "metadata": {},
   "outputs": [],
   "source": [
    "# MaxPooling2D\n",
    "l5 = h5_model.layers[4]\n",
    "l5_out = l5(l4_out.numpy())"
   ]
  },
  {
   "cell_type": "code",
   "execution_count": 9,
   "id": "97af21e5-e533-4e04-ba76-9d52b322eb75",
   "metadata": {},
   "outputs": [
    {
     "name": "stdout",
     "output_type": "stream",
     "text": [
      "(1, 14, 14, 64)\n"
     ]
    },
    {
     "data": {
      "text/plain": [
       "<tf.Tensor: shape=(64,), dtype=float32, numpy=\n",
       "array([0.        , 0.13606277, 0.19537322, 0.        , 0.02371086,\n",
       "       0.        , 0.        , 0.04346997, 0.        , 0.        ,\n",
       "       0.0165835 , 0.01705355, 0.        , 0.        , 0.02385177,\n",
       "       0.01397846, 0.18305242, 0.        , 0.        , 0.        ,\n",
       "       0.        , 0.11963765, 0.        , 0.2531605 , 0.        ,\n",
       "       0.17020133, 0.        , 0.        , 0.02231221, 0.        ,\n",
       "       0.        , 0.        , 0.0161083 , 0.        , 0.17712165,\n",
       "       0.3021493 , 0.        , 0.        , 0.        , 0.14853501,\n",
       "       0.19258422, 0.19711518, 0.2783924 , 0.        , 0.00836945,\n",
       "       0.        , 0.06133013, 0.        , 0.        , 0.        ,\n",
       "       0.        , 0.        , 0.08210312, 0.        , 0.        ,\n",
       "       0.1239159 , 0.16630794, 0.31450033, 0.        , 0.        ,\n",
       "       0.        , 0.11881111, 0.        , 0.1799986 ], dtype=float32)>"
      ]
     },
     "execution_count": 9,
     "metadata": {},
     "output_type": "execute_result"
    }
   ],
   "source": [
    "print(l5_out.shape)\n",
    "l5_out[0,0,0,:]"
   ]
  },
  {
   "cell_type": "markdown",
   "id": "c75ba851-72e3-4982-a317-c5c0ffeaf15f",
   "metadata": {},
   "source": [
    "### Implement MaxPooling2D"
   ]
  },
  {
   "cell_type": "code",
   "execution_count": 29,
   "id": "c104437c-2546-42bf-9aa3-f6758aae3355",
   "metadata": {},
   "outputs": [],
   "source": [
    "def max_pooling_2d(input):\n",
    "    groups, rows, cols, channels = input.shape\n",
    "    out_rows = rows // 2\n",
    "    out_cols = cols // 2\n",
    "\n",
    "    output = np.zeros([groups, out_rows, out_cols, channels])\n",
    "    \n",
    "    for g in range(groups):\n",
    "        for out_r in range(out_rows):\n",
    "            in_r = out_r * 2\n",
    "            for out_c in range(out_cols):\n",
    "                in_c = out_c * 2\n",
    "                for ch in range(channels):\n",
    "                    max_val = input[g, in_r, in_c, ch]\n",
    "                    for r in range(2):\n",
    "                        for c in range(2):\n",
    "                            in_val = input[g, in_r + r, in_c + c, ch]\n",
    "                            if in_val > max_val:\n",
    "                                max_val = in_val\n",
    "                    output[g,out_r,out_c,ch] = max_val\n",
    "\n",
    "    return output\n",
    "\n",
    "# verify values\n",
    "def verify_arrays(a1, a2, tolerance=1e-5):\n",
    "    shapes_equal = a1.shape == a2.shape\n",
    "    print('Shapes match: %s' % str(shapes_equal))\n",
    "    if not shapes_equal:\n",
    "        return\n",
    "\n",
    "    print('Values match: %s' % str(np.all(a1 - a2 < tolerance)))"
   ]
  },
  {
   "cell_type": "code",
   "execution_count": 30,
   "id": "c47f9865-b3f3-4103-ba87-9884ae24f189",
   "metadata": {},
   "outputs": [
    {
     "data": {
      "text/plain": [
       "(array([0.        , 0.13606277, 0.19537322, 0.        , 0.02371086,\n",
       "        0.        , 0.        , 0.04346997, 0.        , 0.        ,\n",
       "        0.0165835 , 0.01705355, 0.        , 0.        , 0.02385177,\n",
       "        0.01397846, 0.18305242, 0.        , 0.        , 0.        ,\n",
       "        0.        , 0.11963765, 0.        , 0.25316051, 0.        ,\n",
       "        0.17020133, 0.        , 0.        , 0.02231221, 0.        ,\n",
       "        0.        , 0.        , 0.0161083 , 0.        , 0.17712165,\n",
       "        0.3021493 , 0.        , 0.        , 0.        , 0.14853501,\n",
       "        0.19258422, 0.19711518, 0.2783924 , 0.        , 0.00836945,\n",
       "        0.        , 0.06133013, 0.        , 0.        , 0.        ,\n",
       "        0.        , 0.        , 0.08210312, 0.        , 0.        ,\n",
       "        0.1239159 , 0.16630794, 0.31450033, 0.        , 0.        ,\n",
       "        0.        , 0.11881111, 0.        , 0.17999861]),\n",
       " <tf.Tensor: shape=(64,), dtype=float32, numpy=\n",
       " array([0.        , 0.13606277, 0.19537322, 0.        , 0.02371086,\n",
       "        0.        , 0.        , 0.04346997, 0.        , 0.        ,\n",
       "        0.0165835 , 0.01705355, 0.        , 0.        , 0.02385177,\n",
       "        0.01397846, 0.18305242, 0.        , 0.        , 0.        ,\n",
       "        0.        , 0.11963765, 0.        , 0.2531605 , 0.        ,\n",
       "        0.17020133, 0.        , 0.        , 0.02231221, 0.        ,\n",
       "        0.        , 0.        , 0.0161083 , 0.        , 0.17712165,\n",
       "        0.3021493 , 0.        , 0.        , 0.        , 0.14853501,\n",
       "        0.19258422, 0.19711518, 0.2783924 , 0.        , 0.00836945,\n",
       "        0.        , 0.06133013, 0.        , 0.        , 0.        ,\n",
       "        0.        , 0.        , 0.08210312, 0.        , 0.        ,\n",
       "        0.1239159 , 0.16630794, 0.31450033, 0.        , 0.        ,\n",
       "        0.        , 0.11881111, 0.        , 0.1799986 ], dtype=float32)>)"
      ]
     },
     "execution_count": 30,
     "metadata": {},
     "output_type": "execute_result"
    }
   ],
   "source": [
    "mp_out = max_pooling_2d(l4_out.numpy())\n",
    "mp_out[0,0,0,:],l5_out[0,0,0,:]"
   ]
  },
  {
   "cell_type": "code",
   "execution_count": 31,
   "id": "5cd173d4-6f16-4533-90d6-f1812738053d",
   "metadata": {},
   "outputs": [
    {
     "name": "stdout",
     "output_type": "stream",
     "text": [
      "Shapes match: True\n",
      "Values match: True\n"
     ]
    }
   ],
   "source": [
    "verify_arrays(mp_out, l5_out)"
   ]
  },
  {
   "cell_type": "markdown",
   "id": "14b1a8bf-9761-4183-8bb7-9321a4b0a071",
   "metadata": {},
   "source": [
    "## Dropout 0.25\n",
    "### Not applied, only used for training"
   ]
  },
  {
   "cell_type": "code",
   "execution_count": 14,
   "id": "0799927b-f4c1-4c41-8d17-4a971d833186",
   "metadata": {},
   "outputs": [
    {
     "data": {
      "text/plain": [
       "<tf.Tensor: shape=(64,), dtype=float32, numpy=\n",
       "array([0.        , 0.13606277, 0.19537322, 0.        , 0.02371086,\n",
       "       0.        , 0.        , 0.04346997, 0.        , 0.        ,\n",
       "       0.0165835 , 0.01705355, 0.        , 0.        , 0.02385177,\n",
       "       0.01397846, 0.18305242, 0.        , 0.        , 0.        ,\n",
       "       0.        , 0.11963765, 0.        , 0.2531605 , 0.        ,\n",
       "       0.17020133, 0.        , 0.        , 0.02231221, 0.        ,\n",
       "       0.        , 0.        , 0.0161083 , 0.        , 0.17712165,\n",
       "       0.3021493 , 0.        , 0.        , 0.        , 0.14853501,\n",
       "       0.19258422, 0.19711518, 0.2783924 , 0.        , 0.00836945,\n",
       "       0.        , 0.06133013, 0.        , 0.        , 0.        ,\n",
       "       0.        , 0.        , 0.08210312, 0.        , 0.        ,\n",
       "       0.1239159 , 0.16630794, 0.31450033, 0.        , 0.        ,\n",
       "       0.        , 0.11881111, 0.        , 0.1799986 ], dtype=float32)>"
      ]
     },
     "execution_count": 14,
     "metadata": {},
     "output_type": "execute_result"
    }
   ],
   "source": [
    "# MaxPooling2D\n",
    "l6 = h5_model.layers[5]\n",
    "l6_out = l6(l5_out.numpy())\n",
    "l6_out[0,0,0,:]"
   ]
  },
  {
   "cell_type": "markdown",
   "id": "06bd36cc-8ca6-4b6f-9f17-a8c7c94e8471",
   "metadata": {},
   "source": [
    "## Flatten"
   ]
  },
  {
   "cell_type": "code",
   "execution_count": 15,
   "id": "c7ab7d6b-6651-4ff5-ac11-d86c8a55e1b4",
   "metadata": {},
   "outputs": [
    {
     "name": "stdout",
     "output_type": "stream",
     "text": [
      "(1, 12544)\n"
     ]
    },
    {
     "data": {
      "text/plain": [
       "array([0.        , 0.13606277, 0.19537322, 0.        , 0.02371086,\n",
       "       0.        , 0.        , 0.04346997, 0.        , 0.        ,\n",
       "       0.0165835 , 0.01705355, 0.        , 0.        , 0.02385177,\n",
       "       0.01397846, 0.18305242, 0.        , 0.        , 0.        ,\n",
       "       0.        , 0.11963765, 0.        , 0.2531605 , 0.        ,\n",
       "       0.17020133, 0.        , 0.        , 0.02231221, 0.        ,\n",
       "       0.        , 0.        ], dtype=float32)"
      ]
     },
     "execution_count": 15,
     "metadata": {},
     "output_type": "execute_result"
    }
   ],
   "source": [
    "l7 = h5_model.layers[6]\n",
    "l7_out = l7(l6_out.numpy())\n",
    "print(l7_out.shape)\n",
    "l7_out.numpy()[0,:32]"
   ]
  },
  {
   "cell_type": "markdown",
   "id": "935f6702-9dd6-47f3-a5db-d594c1ad46aa",
   "metadata": {},
   "source": [
    "## Dense 128"
   ]
  },
  {
   "cell_type": "markdown",
   "id": "08ea1fe4-b721-4ddf-99f2-05f4a8267f98",
   "metadata": {},
   "source": [
    "### TF model output"
   ]
  },
  {
   "cell_type": "code",
   "execution_count": 16,
   "id": "f5c66e94-3938-4d54-9ce6-4749ecc9df26",
   "metadata": {},
   "outputs": [
    {
     "name": "stdout",
     "output_type": "stream",
     "text": [
      "(1, 128)\n"
     ]
    },
    {
     "data": {
      "text/plain": [
       "array([0.        , 0.        , 2.0636077 , 0.8027674 , 0.        ,\n",
       "       0.        , 2.144656  , 0.4767597 , 0.8077969 , 0.        ,\n",
       "       1.1524628 , 0.        , 0.        , 0.        , 0.92185646,\n",
       "       0.        , 0.        , 0.        , 0.        , 0.        ,\n",
       "       1.5352435 , 0.8283296 , 0.        , 0.        , 0.        ,\n",
       "       0.        , 0.        , 0.        , 0.        , 0.        ,\n",
       "       0.        , 1.5560782 ], dtype=float32)"
      ]
     },
     "execution_count": 16,
     "metadata": {},
     "output_type": "execute_result"
    }
   ],
   "source": [
    "# dense 128\n",
    "l8 = h5_model.layers[7]\n",
    "l8_out = l8(l7_out.numpy())\n",
    "print(l8_out.shape)\n",
    "l8_out.numpy()[0,:32]"
   ]
  },
  {
   "cell_type": "markdown",
   "id": "4121c68f-0147-4ffe-a8a4-da25dbdf026f",
   "metadata": {},
   "source": [
    "### Implement Dense"
   ]
  },
  {
   "cell_type": "code",
   "execution_count": 17,
   "id": "f49c1758-9b25-438e-9ca0-6bc92e3bf3ec",
   "metadata": {},
   "outputs": [],
   "source": [
    "def dense(input, weights, biases, activation=None):\n",
    "    n_inputs = input.shape[1]\n",
    "    n_outputs = weights.shape[1]\n",
    "    \n",
    "    output = np.zeros([1, n_outputs])\n",
    "\n",
    "    for out_i in range(n_outputs):\n",
    "        sum = np.sum(input[0,:] * weights[:,out_i]) + biases[out_i]\n",
    "        if activation:\n",
    "            output[0,out_i] = activation(sum)\n",
    "        else:\n",
    "            output[0,out_i] = sum\n",
    "    \n",
    "    return output"
   ]
  },
  {
   "cell_type": "code",
   "execution_count": 18,
   "id": "0bed486c-a207-4f55-b071-e39eec0f6913",
   "metadata": {},
   "outputs": [
    {
     "data": {
      "text/plain": [
       "array([0.        , 0.        , 2.06360865, 0.80276829, 0.        ,\n",
       "       0.        , 2.14465523, 0.47675997, 0.80779701, 0.        ,\n",
       "       1.15246248, 0.        , 0.        , 0.        , 0.92185634,\n",
       "       0.        , 0.        , 0.        , 0.        , 0.        ,\n",
       "       1.53524339, 0.82832944, 0.        , 0.        , 0.        ,\n",
       "       0.        , 0.        , 0.        , 0.        , 0.        ,\n",
       "       0.        , 1.55607867])"
      ]
     },
     "execution_count": 18,
     "metadata": {},
     "output_type": "execute_result"
    }
   ],
   "source": [
    "d_out = dense(l7_out.numpy(), l8.weights[0].numpy(), l8.weights[1].numpy(), activation=relu)\n",
    "d_out[0,:32]"
   ]
  },
  {
   "cell_type": "code",
   "execution_count": 19,
   "id": "1ec7bd08-16c5-4e82-8a2b-d506711fe961",
   "metadata": {},
   "outputs": [
    {
     "name": "stdout",
     "output_type": "stream",
     "text": [
      "Shapes match: True\n",
      "Values match: True\n"
     ]
    }
   ],
   "source": [
    "verify_arrays(d_out, l8_out.numpy())"
   ]
  },
  {
   "cell_type": "markdown",
   "id": "f9843570-6113-43e6-baea-e2f81a648d65",
   "metadata": {},
   "source": [
    "## Dense 8"
   ]
  },
  {
   "cell_type": "markdown",
   "id": "338112db-dada-4b55-a8b0-70fe9657326a",
   "metadata": {},
   "source": [
    "### TF model output"
   ]
  },
  {
   "cell_type": "code",
   "execution_count": 20,
   "id": "6d476900-4247-4288-beed-9761af0b9867",
   "metadata": {},
   "outputs": [
    {
     "name": "stdout",
     "output_type": "stream",
     "text": [
      "(1, 128)\n"
     ]
    },
    {
     "data": {
      "text/plain": [
       "array([0.        , 0.        , 2.0636077 , 0.8027674 , 0.        ,\n",
       "       0.        , 2.144656  , 0.4767597 , 0.8077969 , 0.        ,\n",
       "       1.1524628 , 0.        , 0.        , 0.        , 0.92185646,\n",
       "       0.        , 0.        , 0.        , 0.        , 0.        ,\n",
       "       1.5352435 , 0.8283296 , 0.        , 0.        , 0.        ,\n",
       "       0.        , 0.        , 0.        , 0.        , 0.        ,\n",
       "       0.        , 1.5560782 ], dtype=float32)"
      ]
     },
     "execution_count": 20,
     "metadata": {},
     "output_type": "execute_result"
    }
   ],
   "source": [
    "# dropout 0.5\n",
    "# Not applied, only used for training\n",
    "l9 = h5_model.layers[8]\n",
    "l9_out = l9(l8_out.numpy())\n",
    "print(l9_out.shape)\n",
    "l9_out.numpy()[0,:32]"
   ]
  },
  {
   "cell_type": "code",
   "execution_count": 21,
   "id": "4672b559-90d0-48f0-aa4d-8f78a8cd6e88",
   "metadata": {},
   "outputs": [
    {
     "name": "stdout",
     "output_type": "stream",
     "text": [
      "(1, 8)\n"
     ]
    },
    {
     "data": {
      "text/plain": [
       "array([-3.16535  , -2.9853044,  1.9716071, -1.7369767, -4.632102 ,\n",
       "       -1.3354614, -4.763162 ,  6.664624 ], dtype=float32)"
      ]
     },
     "execution_count": 21,
     "metadata": {},
     "output_type": "execute_result"
    }
   ],
   "source": [
    "# dense 8\n",
    "l10 = h5_model.layers[9]\n",
    "l10_out = l10(l9_out.numpy())\n",
    "print(l10_out.shape)\n",
    "l10_out.numpy()[0,:32]"
   ]
  },
  {
   "cell_type": "markdown",
   "id": "22288db5-9060-43bc-b53e-284a5b159dc8",
   "metadata": {},
   "source": [
    "### Apply the implemented dense"
   ]
  },
  {
   "cell_type": "code",
   "execution_count": 22,
   "id": "023a55aa-13b5-4083-a8a3-d06b3aea008b",
   "metadata": {},
   "outputs": [
    {
     "data": {
      "text/plain": [
       "array([-3.16534996, -2.98530436,  1.97160685, -1.73697674, -4.63210201,\n",
       "       -1.3354615 , -4.76316118,  6.66462421])"
      ]
     },
     "execution_count": 22,
     "metadata": {},
     "output_type": "execute_result"
    }
   ],
   "source": [
    "l_out = dense(l9_out.numpy(), l10.weights[0].numpy(), l10.weights[1].numpy())\n",
    "l_out[0,:32]"
   ]
  },
  {
   "cell_type": "code",
   "execution_count": 23,
   "id": "0395ed41-1acd-4244-be43-9b741583fc71",
   "metadata": {},
   "outputs": [
    {
     "name": "stdout",
     "output_type": "stream",
     "text": [
      "Shapes match: True\n",
      "Values match: True\n"
     ]
    }
   ],
   "source": [
    "verify_arrays(l_out, l10_out.numpy())"
   ]
  },
  {
   "cell_type": "markdown",
   "id": "69a03916-3c9c-4adc-926b-d039924f219e",
   "metadata": {},
   "source": [
    "## Get the output label"
   ]
  },
  {
   "cell_type": "code",
   "execution_count": 24,
   "id": "14ce83eb-40e7-4231-b2fe-4525f970c8c3",
   "metadata": {},
   "outputs": [
    {
     "data": {
      "text/plain": [
       "['down', 'go', 'left', 'no', 'right', 'stop', 'up', 'yes']"
      ]
     },
     "execution_count": 24,
     "metadata": {},
     "output_type": "execute_result"
    }
   ],
   "source": [
    "label_names = ['down', 'go', 'left', 'no', 'right', 'stop', 'up', 'yes']\n",
    "label_names"
   ]
  },
  {
   "cell_type": "code",
   "execution_count": 25,
   "id": "da2828ea-f68b-4187-b126-ac0c6dc5b9c2",
   "metadata": {},
   "outputs": [
    {
     "data": {
      "text/plain": [
       "'yes'"
      ]
     },
     "execution_count": 25,
     "metadata": {},
     "output_type": "execute_result"
    }
   ],
   "source": [
    "label_names[l10_out.numpy().argmax()]"
   ]
  },
  {
   "cell_type": "code",
   "execution_count": null,
   "id": "28877696-2f1e-43df-b278-decb34a8b6c5",
   "metadata": {},
   "outputs": [],
   "source": []
  }
 ],
 "metadata": {
  "kernelspec": {
   "display_name": "Python 3 (ipykernel)",
   "language": "python",
   "name": "python3"
  },
  "language_info": {
   "codemirror_mode": {
    "name": "ipython",
    "version": 3
   },
   "file_extension": ".py",
   "mimetype": "text/x-python",
   "name": "python",
   "nbconvert_exporter": "python",
   "pygments_lexer": "ipython3",
   "version": "3.11.5"
  }
 },
 "nbformat": 4,
 "nbformat_minor": 5
}
