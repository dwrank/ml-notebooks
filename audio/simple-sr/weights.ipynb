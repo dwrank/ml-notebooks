{
 "cells": [
  {
   "cell_type": "code",
   "execution_count": 1,
   "id": "4027bb3e-d3b6-461e-abca-24fadb16e470",
   "metadata": {},
   "outputs": [
    {
     "name": "stderr",
     "output_type": "stream",
     "text": [
      "2024-04-28 11:08:53.500052: I tensorflow/core/platform/cpu_feature_guard.cc:182] This TensorFlow binary is optimized to use available CPU instructions in performance-critical operations.\n",
      "To enable the following instructions: SSE4.1 SSE4.2 AVX AVX2 FMA, in other operations, rebuild TensorFlow with the appropriate compiler flags.\n"
     ]
    }
   ],
   "source": [
    "import pathlib\n",
    "import numpy as np\n",
    "\n",
    "import tensorflow as tf \n",
    "from tensorflow.keras import layers\n",
    "import h5py\n",
    "import re"
   ]
  },
  {
   "cell_type": "code",
   "execution_count": 2,
   "id": "96dbae7a-6dbd-4113-8402-21b92ee26d68",
   "metadata": {},
   "outputs": [],
   "source": [
    "imported = tf.saved_model.load('saved')\n",
    "m = imported.model"
   ]
  },
  {
   "cell_type": "code",
   "execution_count": 3,
   "id": "ec71cdc9-9151-4ce3-8119-0057f8e615af",
   "metadata": {},
   "outputs": [
    {
     "data": {
      "text/plain": [
       "<tensorflow.python.saved_model.load.Loader._recreate_base_user_object.<locals>._UserObject at 0x12f82ff50>"
      ]
     },
     "execution_count": 3,
     "metadata": {},
     "output_type": "execute_result"
    }
   ],
   "source": [
    "m.keras_api"
   ]
  },
  {
   "cell_type": "code",
   "execution_count": 4,
   "id": "7119637a-7fe3-4095-9c4b-e67f95e5c802",
   "metadata": {},
   "outputs": [
    {
     "name": "stdout",
     "output_type": "stream",
     "text": [
      "Model: \"sequential\"\n",
      "_________________________________________________________________\n",
      " Layer (type)                Output Shape              Param #   \n",
      "=================================================================\n",
      " resizing (Resizing)         (None, 32, 32, 1)         0         \n",
      "                                                                 \n",
      " normalization (Normalizatio  (None, 32, 32, 1)        3         \n",
      " n)                                                              \n",
      "                                                                 \n",
      " conv2d (Conv2D)             (None, 30, 30, 32)        320       \n",
      "                                                                 \n",
      " conv2d_1 (Conv2D)           (None, 28, 28, 64)        18496     \n",
      "                                                                 \n",
      " max_pooling2d (MaxPooling2D  (None, 14, 14, 64)       0         \n",
      " )                                                               \n",
      "                                                                 \n",
      " dropout (Dropout)           (None, 14, 14, 64)        0         \n",
      "                                                                 \n",
      " flatten (Flatten)           (None, 12544)             0         \n",
      "                                                                 \n",
      " dense (Dense)               (None, 128)               1605760   \n",
      "                                                                 \n",
      " dropout_1 (Dropout)         (None, 128)               0         \n",
      "                                                                 \n",
      " dense_1 (Dense)             (None, 8)                 1032      \n",
      "                                                                 \n",
      "=================================================================\n",
      "Total params: 1,625,611\n",
      "Trainable params: 1,625,608\n",
      "Non-trainable params: 3\n",
      "_________________________________________________________________\n"
     ]
    }
   ],
   "source": [
    "h5_model = tf.keras.models.load_model('simple-sr.h5')\n",
    "h5_model.summary()"
   ]
  },
  {
   "cell_type": "code",
   "execution_count": 5,
   "id": "6e01918f-85bd-423d-9397-e8174fb60156",
   "metadata": {},
   "outputs": [],
   "source": [
    "def make_var_name(v):\n",
    "    s = re.split('/|:', v.name)[:-1]\n",
    "    return 'weights_' + '_'.join(s)\n",
    "\n",
    "def make_type(v):\n",
    "    return re.split('[0-9]', v.dtype.name)[0]\n",
    "\n",
    "def c_write(f, s=''):\n",
    "    #print(s, end='')\n",
    "    f.write(s)\n",
    "\n",
    "def create_var_prim(f, name, typ, val, extern=False):\n",
    "    if extern:\n",
    "        c_write(f, f'extern {typ} {name};\\n\\n')\n",
    "        return\n",
    "\n",
    "    c_write(f, f'{typ} {name} = {val};\\n\\n')\n",
    "    \n",
    "def create_var_arr(f, name, typ, arr, shape, extern=False):\n",
    "    if extern:\n",
    "        dims = [1,1,1,1]\n",
    "        if len(shape) == 1:\n",
    "            dims[3] = shape[0]\n",
    "        elif len(shape) == 2:\n",
    "            dims[2] = shape[0]\n",
    "            dims[3] = shape[1]\n",
    "        elif len(shape) == 3:\n",
    "            dims[1] = shape[0]\n",
    "            dims[2] = shape[1]\n",
    "            dims[3] = shape[2]\n",
    "        else:\n",
    "            dims[0] = shape[0]\n",
    "            dims[1] = shape[1]\n",
    "            dims[2] = shape[2]\n",
    "            dims[3] = shape[3]\n",
    "\n",
    "        for i in range(len(dims)):\n",
    "            c_write(f, f'const int {name}_d{i} = {dims[i]};\\n')\n",
    "\n",
    "        len_name = f'{name}_len'\n",
    "        c_write(f, f'const int {len_name} = {len(arr)};\\n')\n",
    "        c_write(f, f'extern {typ} {name}[{len_name}];\\n\\n')\n",
    "        return\n",
    "\n",
    "    c_write(f, '%s %s[] = {\\n    ' % (typ, name))\n",
    "\n",
    "    data = v.numpy().flatten()\n",
    "\n",
    "    for i in range(len(data)):\n",
    "        if i != 0 and i % 16 == 0:\n",
    "            c_write(f, '\\n    ')\n",
    "        if i == len(data) - 1:\n",
    "            c_write(f, f'{data[i]}')\n",
    "        else:\n",
    "            c_write(f, f'{data[i]}, ')\n",
    "    c_write(f, '\\n};\\n\\n')\n",
    "\n",
    "def create_var(f, v, extern=False):\n",
    "    c_write(f, '// dimensions: %s\\n' % str(v.shape))\n",
    "\n",
    "    name = make_var_name(v)\n",
    "    typ  = make_type(v)\n",
    "    arr  = v.numpy().flatten()\n",
    "    if len(arr) > 1:\n",
    "        create_var_arr(f, name, typ, arr, v.numpy().shape, extern)\n",
    "    else:\n",
    "        create_var_prim(f, name, typ, arr[0], extern)"
   ]
  },
  {
   "cell_type": "code",
   "execution_count": 6,
   "id": "397962be-eaf9-4ae2-9fc1-265afe2a1c9f",
   "metadata": {},
   "outputs": [],
   "source": [
    "with open('weights.h', 'w') as f:\n",
    "    c_write(f, '#ifndef __WEIGHTS_H__\\n')\n",
    "    c_write(f, '#define __WEIGHTS_H__\\n')\n",
    "    \n",
    "    for v in m.variables:\n",
    "        create_var(f, v, extern=True)\n",
    "\n",
    "    c_write(f, '#endif  // __WEIGHTS_H__\\n')\n",
    "\n",
    "with open('weights.cc', 'w') as f:\n",
    "    c_write(f, '#include \"weights.h\"\\n\\n')\n",
    "    \n",
    "    for v in m.variables:\n",
    "        create_var(f, v)"
   ]
  },
  {
   "cell_type": "code",
   "execution_count": 7,
   "id": "9bb65ff1-de66-4475-8684-0240d96e01cd",
   "metadata": {},
   "outputs": [
    {
     "name": "stdout",
     "output_type": "stream",
     "text": [
      "mean:0 (1,)\n",
      "variance:0 (1,)\n",
      "count:0 ()\n",
      "conv2d/kernel:0 (3, 3, 1, 32)\n",
      "conv2d/bias:0 (32,)\n",
      "conv2d_1/kernel:0 (3, 3, 32, 64)\n",
      "conv2d_1/bias:0 (64,)\n",
      "dense/kernel:0 (12544, 128)\n",
      "dense/bias:0 (128,)\n",
      "dense_1/kernel:0 (128, 8)\n",
      "dense_1/bias:0 (8,)\n"
     ]
    }
   ],
   "source": [
    "for v in m.variables:\n",
    "    print(v.name, v.shape)"
   ]
  },
  {
   "cell_type": "code",
   "execution_count": null,
   "id": "a6dc21bc-699e-439a-b902-b2754cfd31ac",
   "metadata": {},
   "outputs": [],
   "source": []
  }
 ],
 "metadata": {
  "kernelspec": {
   "display_name": "Python 3 (ipykernel)",
   "language": "python",
   "name": "python3"
  },
  "language_info": {
   "codemirror_mode": {
    "name": "ipython",
    "version": 3
   },
   "file_extension": ".py",
   "mimetype": "text/x-python",
   "name": "python",
   "nbconvert_exporter": "python",
   "pygments_lexer": "ipython3",
   "version": "3.11.5"
  }
 },
 "nbformat": 4,
 "nbformat_minor": 5
}
