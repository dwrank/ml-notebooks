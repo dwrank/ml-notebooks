{
 "cells": [
  {
   "cell_type": "markdown",
   "id": "5b200f86-d201-4c0e-8f22-b001c9ae3ec5",
   "metadata": {},
   "source": [
    "# Simple Speech Recognition v2\n",
    "### From the tensorflow tutorial: https://www.tensorflow.org/tutorials/audio/simple_audio"
   ]
  },
  {
   "cell_type": "code",
   "execution_count": 1,
   "id": "65aa53cb-06cf-4746-a3eb-bfa38a58ce79",
   "metadata": {},
   "outputs": [
    {
     "name": "stderr",
     "output_type": "stream",
     "text": [
      "2024-05-04 16:59:17.167861: I tensorflow/core/platform/cpu_feature_guard.cc:182] This TensorFlow binary is optimized to use available CPU instructions in performance-critical operations.\n",
      "To enable the following instructions: SSE4.1 SSE4.2 AVX AVX2 FMA, in other operations, rebuild TensorFlow with the appropriate compiler flags.\n"
     ]
    }
   ],
   "source": [
    "import os\n",
    "import logging\n",
    "\n",
    "import pathlib\n",
    "\n",
    "import matplotlib.pyplot as plt\n",
    "import numpy as np\n",
    "import seaborn as sns\n",
    "import tensorflow as tf\n",
    "\n",
    "from tensorflow.keras import layers\n",
    "from tensorflow.keras import models\n",
    "from IPython import display"
   ]
  },
  {
   "cell_type": "markdown",
   "id": "0e0be663-d379-4c41-9ca6-e0e4628e3a8d",
   "metadata": {},
   "source": [
    "## Seed the RNG and download data if there is none."
   ]
  },
  {
   "cell_type": "code",
   "execution_count": 2,
   "id": "d5a49c1a-84c5-4088-b7d3-abb8c7225d8c",
   "metadata": {},
   "outputs": [],
   "source": [
    "seed = 42\n",
    "tf.random.set_seed(seed)\n",
    "np.random.seed(seed)\n",
    "\n",
    "DATASET_PATH = 'data/mini_with_numbers'\n",
    "data_dir = pathlib.Path(DATASET_PATH)"
   ]
  },
  {
   "cell_type": "code",
   "execution_count": 3,
   "id": "fe34c0aa-a735-4eb3-bb13-9f3245873a58",
   "metadata": {},
   "outputs": [
    {
     "name": "stdout",
     "output_type": "stream",
     "text": [
      "Commands: ['right' 'eight' 'go' 'no' 'nine' 'left' 'stop' 'three' 'one' 'zero'\n",
      " 'seven' 'up' 'two' 'down' 'six' 'yes' 'five' 'four']\n"
     ]
    }
   ],
   "source": [
    "commands = np.array(tf.io.gfile.listdir(str(data_dir)))\n",
    "commands = commands[(commands != 'README.md') & (commands != '.DS_Store')]\n",
    "print('Commands:', commands)"
   ]
  },
  {
   "cell_type": "markdown",
   "id": "d02b8160-480c-4cf6-9e1f-5732268940a8",
   "metadata": {},
   "source": [
    "## Split the data in training and validation sets."
   ]
  },
  {
   "cell_type": "code",
   "execution_count": 4,
   "id": "510fcaf9-093b-4a81-ae78-2312914df85f",
   "metadata": {},
   "outputs": [
    {
     "name": "stdout",
     "output_type": "stream",
     "text": [
      "Found 69864 files belonging to 18 classes.\n",
      "Using 55892 files for training.\n",
      "Using 13972 files for validation.\n",
      "\n",
      "label names: ['down' 'eight' 'five' 'four' 'go' 'left' 'nine' 'no' 'one' 'right'\n",
      " 'seven' 'six' 'stop' 'three' 'two' 'up' 'yes' 'zero']\n"
     ]
    }
   ],
   "source": [
    "# <= 1 seconds audio clips at 16KHz\n",
    "# output_sequence_length pads and trims to 1 second to be easily batched.\n",
    "train_ds, val_ds = tf.keras.utils.audio_dataset_from_directory(\n",
    "        directory=data_dir,\n",
    "        batch_size=64,\n",
    "        validation_split=0.2,\n",
    "        seed=0,\n",
    "        output_sequence_length=16000,\n",
    "        subset='both')\n",
    "\n",
    "label_names = np.array(train_ds.class_names)\n",
    "print('\\nlabel names:', label_names)"
   ]
  },
  {
   "cell_type": "code",
   "execution_count": 5,
   "id": "c1ae2b4c-aae0-40e4-9d3f-506dfb6a3612",
   "metadata": {},
   "outputs": [
    {
     "data": {
      "text/plain": [
       "(TensorSpec(shape=(None, 16000, None), dtype=tf.float32, name=None),\n",
       " TensorSpec(shape=(None,), dtype=tf.int32, name=None))"
      ]
     },
     "execution_count": 5,
     "metadata": {},
     "output_type": "execute_result"
    }
   ],
   "source": [
    "train_ds.element_spec"
   ]
  },
  {
   "cell_type": "code",
   "execution_count": 6,
   "id": "d6eb1816-b468-40dc-89fe-758e1d8cebf0",
   "metadata": {},
   "outputs": [],
   "source": [
    "# only single channel audio, so use tf.squeeze to drop the extra axis\n",
    "def squeeze(audio, labels):\n",
    "    audio = tf.squeeze(audio, axis=-1)\n",
    "    return audio, labels\n",
    "\n",
    "train_ds = train_ds.map(squeeze, tf.data.AUTOTUNE)\n",
    "val_ds = val_ds.map(squeeze, tf.data.AUTOTUNE)"
   ]
  },
  {
   "cell_type": "markdown",
   "id": "c550b29f-d383-451c-8926-00f67f414614",
   "metadata": {},
   "source": [
    "## Split off a test set from the validation data."
   ]
  },
  {
   "cell_type": "code",
   "execution_count": 7,
   "id": "61fad09d-506e-46ad-a1e7-03ea07940ccf",
   "metadata": {},
   "outputs": [
    {
     "name": "stdout",
     "output_type": "stream",
     "text": [
      "(64, 16000)\n",
      "(64,)\n"
     ]
    },
    {
     "name": "stderr",
     "output_type": "stream",
     "text": [
      "2024-05-04 16:59:22.118761: I tensorflow/core/common_runtime/executor.cc:1197] [/device:CPU:0] (DEBUG INFO) Executor start aborting (this does not indicate an error and you can ignore this message): INVALID_ARGUMENT: You must feed a value for placeholder tensor 'Placeholder/_0' with dtype string and shape [55892]\n",
      "\t [[{{node Placeholder/_0}}]]\n",
      "2024-05-04 16:59:22.119131: I tensorflow/core/common_runtime/executor.cc:1197] [/device:CPU:0] (DEBUG INFO) Executor start aborting (this does not indicate an error and you can ignore this message): INVALID_ARGUMENT: You must feed a value for placeholder tensor 'Placeholder/_4' with dtype int32 and shape [55892]\n",
      "\t [[{{node Placeholder/_4}}]]\n"
     ]
    }
   ],
   "source": [
    "# split off a test set from the validation set\n",
    "test_ds = val_ds.shard(num_shards=2, index=0)\n",
    "val_ds = val_ds.shard(num_shards=2, index=1)\n",
    "\n",
    "for example_audio, example_labels in train_ds.take(1):\n",
    "    print(example_audio.shape)\n",
    "    print(example_labels.shape)"
   ]
  },
  {
   "cell_type": "markdown",
   "id": "301430fe-f5fb-4acd-948c-091191eba08d",
   "metadata": {},
   "source": [
    "## Convert waveforms to spectrograms"
   ]
  },
  {
   "cell_type": "markdown",
   "id": "7a402618-8d4d-48dd-9bdf-39dee6138ca8",
   "metadata": {},
   "source": [
    "The waveforms in the dataset are represented in the time domain. Next, you'll transform the waveforms from the time-domain signals into the time-frequency-domain signals by computing the short-time Fourier transform (STFT) to convert the waveforms to spectrograms, which show frequency changes over time and can be represented as 2D images. You will feed the spectrogram images into your neural network to train the model."
   ]
  },
  {
   "cell_type": "code",
   "execution_count": 8,
   "id": "034fd795-4428-4d50-93bc-28955b2a087c",
   "metadata": {},
   "outputs": [],
   "source": [
    "def get_spectrogram(waveform):\n",
    "    # Convert the waveform to a spectrogram via a STFT\n",
    "    spectrogram = tf.signal.stft(waveform, frame_length=255, frame_step=128)\n",
    "\n",
    "    # Obtain the magnitude of the STFT\n",
    "    spectrogram = tf.abs(spectrogram)\n",
    "\n",
    "    # Add a 'channels' dimension, so that the spectrogram can be used as an\n",
    "    # image-like input data w/ convolution layers, which expect shape\n",
    "    # (batch_size, height, width, channels)\n",
    "    spectrogram = spectrogram[..., tf.newaxis]\n",
    "    return spectrogram"
   ]
  },
  {
   "cell_type": "markdown",
   "id": "4e42d47e-4845-475d-a815-2962fa86af18",
   "metadata": {},
   "source": [
    "### Create Spectrogram Datasets"
   ]
  },
  {
   "cell_type": "code",
   "execution_count": 9,
   "id": "a6aff442-4259-4370-bcc6-2b094950226b",
   "metadata": {},
   "outputs": [],
   "source": [
    "def make_spec_ds(ds):\n",
    "    return ds.map(map_func=lambda audio, label: (get_spectrogram(audio), label),\n",
    "                  num_parallel_calls=tf.data.AUTOTUNE)"
   ]
  },
  {
   "cell_type": "code",
   "execution_count": 10,
   "id": "cf664906-2370-4ae7-a6d0-f99cb85eefb4",
   "metadata": {},
   "outputs": [],
   "source": [
    "train_spectrogram_ds = make_spec_ds(train_ds)\n",
    "val_spectrogram_ds = make_spec_ds(val_ds)\n",
    "test_spectrogram_ds = make_spec_ds(test_ds)"
   ]
  },
  {
   "cell_type": "markdown",
   "id": "f6401d5c-b71e-4d92-90aa-b465b4f7a760",
   "metadata": {},
   "source": [
    "### Build and Train the Model"
   ]
  },
  {
   "cell_type": "code",
   "execution_count": 11,
   "id": "e4344f3f-5963-4991-a982-ea91b23b067e",
   "metadata": {},
   "outputs": [],
   "source": [
    "train_spectrogram_ds = train_spectrogram_ds.cache().shuffle(10000).prefetch(tf.data.AUTOTUNE)\n",
    "val_spectrogram_ds = val_spectrogram_ds.cache().prefetch(tf.data.AUTOTUNE)\n",
    "test_spectrogram_ds = test_spectrogram_ds.cache().prefetch(tf.data.AUTOTUNE)"
   ]
  },
  {
   "cell_type": "markdown",
   "id": "1c6ec949-bd9b-4f90-9e1f-24d3af5c9774",
   "metadata": {},
   "source": [
    "## Use a CNN since the audio files have been transformed into spectrogram images\n",
    "### The tf.kera.Sequenctial will use the preprocessing layers:\n",
    "- layers.Resizing to downsample to input to enable the model to train faster.\n",
    "- layers.Normalization to normalize each pixel in the image based on it's mean and std"
   ]
  },
  {
   "cell_type": "code",
   "execution_count": 12,
   "id": "415d600f-162d-43dc-bd41-3e3643b690bf",
   "metadata": {},
   "outputs": [
    {
     "name": "stderr",
     "output_type": "stream",
     "text": [
      "2024-05-04 16:59:22.526514: I tensorflow/core/common_runtime/executor.cc:1197] [/device:CPU:0] (DEBUG INFO) Executor start aborting (this does not indicate an error and you can ignore this message): INVALID_ARGUMENT: You must feed a value for placeholder tensor 'Placeholder/_4' with dtype int32 and shape [55892]\n",
      "\t [[{{node Placeholder/_4}}]]\n",
      "2024-05-04 16:59:22.526946: I tensorflow/core/common_runtime/executor.cc:1197] [/device:CPU:0] (DEBUG INFO) Executor start aborting (this does not indicate an error and you can ignore this message): INVALID_ARGUMENT: You must feed a value for placeholder tensor 'Placeholder/_4' with dtype int32 and shape [55892]\n",
      "\t [[{{node Placeholder/_4}}]]\n",
      "2024-05-04 16:59:32.574490: I tensorflow/core/kernels/data/shuffle_dataset_op.cc:392] Filling up shuffle buffer (this may take a while): 342 of 10000\n",
      "2024-05-04 16:59:42.557409: I tensorflow/core/kernels/data/shuffle_dataset_op.cc:392] Filling up shuffle buffer (this may take a while): 701 of 10000\n",
      "2024-05-04 16:59:47.507191: I tensorflow/core/kernels/data/shuffle_dataset_op.cc:417] Shuffle buffer filled.\n",
      "2024-05-04 16:59:47.544825: I tensorflow/core/common_runtime/executor.cc:1197] [/device:CPU:0] (DEBUG INFO) Executor start aborting (this does not indicate an error and you can ignore this message): INVALID_ARGUMENT: You must feed a value for placeholder tensor 'Placeholder/_0' with dtype string and shape [55892]\n",
      "\t [[{{node Placeholder/_0}}]]\n",
      "2024-05-04 16:59:47.545212: I tensorflow/core/common_runtime/executor.cc:1197] [/device:CPU:0] (DEBUG INFO) Executor start aborting (this does not indicate an error and you can ignore this message): INVALID_ARGUMENT: You must feed a value for placeholder tensor 'Placeholder/_4' with dtype int32 and shape [55892]\n",
      "\t [[{{node Placeholder/_4}}]]\n"
     ]
    },
    {
     "name": "stdout",
     "output_type": "stream",
     "text": [
      "Input shape: (124, 129, 1)\n",
      "Model: \"sequential\"\n",
      "_________________________________________________________________\n",
      " Layer (type)                Output Shape              Param #   \n",
      "=================================================================\n",
      " resizing (Resizing)         (None, 64, 64, 1)         0         \n",
      "                                                                 \n",
      " normalization (Normalizatio  (None, 64, 64, 1)        3         \n",
      " n)                                                              \n",
      "                                                                 \n",
      " conv2d (Conv2D)             (None, 62, 62, 32)        320       \n",
      "                                                                 \n",
      " max_pooling2d (MaxPooling2D  (None, 31, 31, 32)       0         \n",
      " )                                                               \n",
      "                                                                 \n",
      " conv2d_1 (Conv2D)           (None, 29, 29, 64)        18496     \n",
      "                                                                 \n",
      " max_pooling2d_1 (MaxPooling  (None, 14, 14, 64)       0         \n",
      " 2D)                                                             \n",
      "                                                                 \n",
      " conv2d_2 (Conv2D)           (None, 12, 12, 128)       73856     \n",
      "                                                                 \n",
      " max_pooling2d_2 (MaxPooling  (None, 6, 6, 128)        0         \n",
      " 2D)                                                             \n",
      "                                                                 \n",
      " dropout (Dropout)           (None, 6, 6, 128)         0         \n",
      "                                                                 \n",
      " flatten (Flatten)           (None, 4608)              0         \n",
      "                                                                 \n",
      " dense (Dense)               (None, 128)               589952    \n",
      "                                                                 \n",
      " dropout_1 (Dropout)         (None, 128)               0         \n",
      "                                                                 \n",
      " dense_1 (Dense)             (None, 18)                2322      \n",
      "                                                                 \n",
      "=================================================================\n",
      "Total params: 684,949\n",
      "Trainable params: 684,946\n",
      "Non-trainable params: 3\n",
      "_________________________________________________________________\n"
     ]
    }
   ],
   "source": [
    "for example_spectrograms, example_spect_labels in train_spectrogram_ds.take(1):\n",
    "    break\n",
    "\n",
    "input_shape = example_spectrograms.shape[1:]\n",
    "print('Input shape:', input_shape)\n",
    "\n",
    "num_labels = len(label_names)\n",
    "\n",
    "# Instantiate the normalization layer\n",
    "norm_layer = layers.Normalization()\n",
    "\n",
    "# Fit the state of the layer to the spectrogram\n",
    "norm_layer.adapt(data=train_spectrogram_ds.map(map_func=lambda spec, label: spec))\n",
    "\n",
    "model = models.Sequential([\n",
    "    layers.Input(shape=input_shape),\n",
    "    # Downsample the input\n",
    "    layers.Resizing(64, 64),\n",
    "    # Normalize\n",
    "    norm_layer,\n",
    "    layers.Conv2D(32, 3, activation='relu'),\n",
    "    layers.MaxPooling2D(),\n",
    "    layers.Conv2D(64, 3, activation='relu'),\n",
    "    layers.MaxPooling2D(),\n",
    "    layers.Conv2D(128, 3, activation='relu'),\n",
    "    layers.MaxPooling2D(),\n",
    "    layers.Dropout(0.25),\n",
    "    layers.Flatten(),\n",
    "    layers.Dense(128, activation='relu'),\n",
    "    layers.Dropout(0.5),\n",
    "    layers.Dense(num_labels),\n",
    "])\n",
    "\n",
    "model.summary()"
   ]
  },
  {
   "cell_type": "markdown",
   "id": "b1d11dce-66fa-4f08-849b-e2f311c64a2b",
   "metadata": {},
   "source": [
    "### Taking a look at the norm layer"
   ]
  },
  {
   "cell_type": "code",
   "execution_count": 13,
   "id": "9c454892-c9f8-42d4-a146-903371c15503",
   "metadata": {},
   "outputs": [
    {
     "data": {
      "text/plain": [
       "(array([[[[0.13709614]]]], dtype=float32),\n",
       " array([[[[0.66497695]]]], dtype=float32),\n",
       " 894048432)"
      ]
     },
     "execution_count": 13,
     "metadata": {},
     "output_type": "execute_result"
    }
   ],
   "source": [
    "norm_layer.mean.numpy(), norm_layer.variance.numpy(), norm_layer.count.numpy()"
   ]
  },
  {
   "cell_type": "markdown",
   "id": "4d121e21-94fb-4b2e-b9a4-6c6ed1d46f34",
   "metadata": {},
   "source": [
    "### Configure the Keras model w/ the Adam optimizer and the cross-entropy loss"
   ]
  },
  {
   "cell_type": "code",
   "execution_count": 14,
   "id": "0cc6cb4f-d4b7-408f-a39b-0f793c96209a",
   "metadata": {},
   "outputs": [],
   "source": [
    "model.compile(\n",
    "    optimizer=tf.keras.optimizers.Adam(),\n",
    "    loss=tf.keras.losses.SparseCategoricalCrossentropy(from_logits=True),\n",
    "    metrics=['accuracy'],\n",
    ")"
   ]
  },
  {
   "cell_type": "markdown",
   "id": "cbd9ba5a-42aa-4d98-a659-7dcda957c3c7",
   "metadata": {},
   "source": [
    "### Train the model over 10 epochs for demonstation purposes."
   ]
  },
  {
   "cell_type": "code",
   "execution_count": 15,
   "id": "60e161a2-d53d-45fc-9039-efc5af502763",
   "metadata": {},
   "outputs": [
    {
     "name": "stdout",
     "output_type": "stream",
     "text": [
      "Epoch 1/20\n"
     ]
    },
    {
     "name": "stderr",
     "output_type": "stream",
     "text": [
      "2024-05-04 16:59:49.290256: I tensorflow/core/common_runtime/executor.cc:1197] [/device:CPU:0] (DEBUG INFO) Executor start aborting (this does not indicate an error and you can ignore this message): INVALID_ARGUMENT: You must feed a value for placeholder tensor 'Placeholder/_0' with dtype string and shape [55892]\n",
      "\t [[{{node Placeholder/_0}}]]\n",
      "2024-05-04 16:59:49.290799: I tensorflow/core/common_runtime/executor.cc:1197] [/device:CPU:0] (DEBUG INFO) Executor start aborting (this does not indicate an error and you can ignore this message): INVALID_ARGUMENT: You must feed a value for placeholder tensor 'Placeholder/_4' with dtype int32 and shape [55892]\n",
      "\t [[{{node Placeholder/_4}}]]\n"
     ]
    },
    {
     "name": "stdout",
     "output_type": "stream",
     "text": [
      "874/874 [==============================] - ETA: 0s - loss: 1.3418 - accuracy: 0.5877"
     ]
    },
    {
     "name": "stderr",
     "output_type": "stream",
     "text": [
      "2024-05-04 17:01:18.253589: I tensorflow/core/common_runtime/executor.cc:1197] [/device:CPU:0] (DEBUG INFO) Executor start aborting (this does not indicate an error and you can ignore this message): INVALID_ARGUMENT: You must feed a value for placeholder tensor 'Placeholder/_0' with dtype string and shape [13972]\n",
      "\t [[{{node Placeholder/_0}}]]\n",
      "2024-05-04 17:01:18.253898: I tensorflow/core/common_runtime/executor.cc:1197] [/device:CPU:0] (DEBUG INFO) Executor start aborting (this does not indicate an error and you can ignore this message): INVALID_ARGUMENT: You must feed a value for placeholder tensor 'Placeholder/_4' with dtype int32 and shape [13972]\n",
      "\t [[{{node Placeholder/_4}}]]\n"
     ]
    },
    {
     "name": "stdout",
     "output_type": "stream",
     "text": [
      "874/874 [==============================] - 95s 108ms/step - loss: 1.3418 - accuracy: 0.5877 - val_loss: 0.4784 - val_accuracy: 0.8614\n",
      "Epoch 2/20\n",
      "874/874 [==============================] - 90s 103ms/step - loss: 0.5907 - accuracy: 0.8204 - val_loss: 0.3442 - val_accuracy: 0.8969\n",
      "Epoch 3/20\n",
      "874/874 [==============================] - 90s 103ms/step - loss: 0.4410 - accuracy: 0.8653 - val_loss: 0.2753 - val_accuracy: 0.9167\n",
      "Epoch 4/20\n",
      "874/874 [==============================] - 90s 103ms/step - loss: 0.3692 - accuracy: 0.8862 - val_loss: 0.2755 - val_accuracy: 0.9196\n",
      "Epoch 5/20\n",
      "874/874 [==============================] - 90s 103ms/step - loss: 0.3269 - accuracy: 0.8976 - val_loss: 0.2410 - val_accuracy: 0.9283\n",
      "Epoch 6/20\n",
      "874/874 [==============================] - 90s 103ms/step - loss: 0.2921 - accuracy: 0.9083 - val_loss: 0.2421 - val_accuracy: 0.9283\n",
      "Epoch 7/20\n",
      "874/874 [==============================] - 91s 104ms/step - loss: 0.2664 - accuracy: 0.9174 - val_loss: 0.2295 - val_accuracy: 0.9328\n",
      "Epoch 8/20\n",
      "874/874 [==============================] - 91s 104ms/step - loss: 0.2450 - accuracy: 0.9232 - val_loss: 0.2123 - val_accuracy: 0.9398\n",
      "Epoch 9/20\n",
      "874/874 [==============================] - 90s 103ms/step - loss: 0.2351 - accuracy: 0.9274 - val_loss: 0.2107 - val_accuracy: 0.9412\n",
      "Epoch 10/20\n",
      "874/874 [==============================] - 90s 103ms/step - loss: 0.2132 - accuracy: 0.9320 - val_loss: 0.1997 - val_accuracy: 0.9450\n",
      "Epoch 11/20\n",
      "874/874 [==============================] - 91s 104ms/step - loss: 0.2027 - accuracy: 0.9342 - val_loss: 0.2005 - val_accuracy: 0.9458\n",
      "Epoch 12/20\n",
      "874/874 [==============================] - 91s 104ms/step - loss: 0.1902 - accuracy: 0.9404 - val_loss: 0.1918 - val_accuracy: 0.9465\n",
      "Epoch 13/20\n",
      "874/874 [==============================] - 91s 104ms/step - loss: 0.1852 - accuracy: 0.9409 - val_loss: 0.2044 - val_accuracy: 0.9458\n",
      "Epoch 14/20\n",
      "874/874 [==============================] - 91s 104ms/step - loss: 0.1761 - accuracy: 0.9448 - val_loss: 0.2011 - val_accuracy: 0.9418\n",
      "Epoch 14: early stopping\n"
     ]
    }
   ],
   "source": [
    "EPOCHS = 20\n",
    "history = model.fit(\n",
    "    train_spectrogram_ds,\n",
    "    validation_data=val_spectrogram_ds,\n",
    "    epochs=EPOCHS,\n",
    "    callbacks=tf.keras.callbacks.EarlyStopping(verbose=1, patience=2),\n",
    ")"
   ]
  },
  {
   "cell_type": "markdown",
   "id": "da827b93-f35b-4802-a18d-b3d9d9885fe6",
   "metadata": {},
   "source": [
    "### Plot the training and validation loss curves"
   ]
  },
  {
   "cell_type": "code",
   "execution_count": 16,
   "id": "3a8ccb75-6e95-41a5-8d1e-e315d2512acc",
   "metadata": {},
   "outputs": [
    {
     "data": {
      "text/plain": [
       "Text(0, 0.5, 'Accuracy [%]')"
      ]
     },
     "execution_count": 16,
     "metadata": {},
     "output_type": "execute_result"
    },
    {
     "data": {
      "image/png": "[encoded data removed]",
      "text/plain": [
       "<Figure size 1600x600 with 2 Axes>"
      ]
     },
     "metadata": {},
     "output_type": "display_data"
    }
   ],
   "source": [
    "metrics = history.history\n",
    "plt.figure(figsize=(16,6))\n",
    "plt.subplot(1,2,1)\n",
    "plt.plot(history.epoch, metrics['loss'], metrics['val_loss'])\n",
    "plt.legend(['loss', 'val_loss'])\n",
    "plt.ylim([0, max(plt.ylim())])\n",
    "plt.xlabel('Epoch')\n",
    "plt.ylabel('Loss [CrossEntropy]')\n",
    "\n",
    "plt.subplot(1,2,2)\n",
    "plt.plot(history.epoch, 100*np.array(metrics['accuracy']), 100*np.array(metrics['val_accuracy']))\n",
    "plt.legend(['accuracy', 'val_accuracy'])\n",
    "plt.ylim([0, 100])\n",
    "plt.xlabel('Epoch')\n",
    "plt.ylabel('Accuracy [%]')"
   ]
  },
  {
   "cell_type": "markdown",
   "id": "68833fb8-4a17-4a0f-a808-1c73284baec1",
   "metadata": {},
   "source": [
    "### Evaluate the model on the test set"
   ]
  },
  {
   "cell_type": "code",
   "execution_count": 17,
   "id": "51e893bb-b63f-4b0e-ba97-11d6ccc18276",
   "metadata": {},
   "outputs": [
    {
     "name": "stderr",
     "output_type": "stream",
     "text": [
      "2024-05-04 17:21:02.413377: I tensorflow/core/common_runtime/executor.cc:1197] [/device:CPU:0] (DEBUG INFO) Executor start aborting (this does not indicate an error and you can ignore this message): INVALID_ARGUMENT: You must feed a value for placeholder tensor 'Placeholder/_0' with dtype string and shape [13972]\n",
      "\t [[{{node Placeholder/_0}}]]\n",
      "2024-05-04 17:21:02.413687: I tensorflow/core/common_runtime/executor.cc:1197] [/device:CPU:0] (DEBUG INFO) Executor start aborting (this does not indicate an error and you can ignore this message): INVALID_ARGUMENT: You must feed a value for placeholder tensor 'Placeholder/_4' with dtype int32 and shape [13972]\n",
      "\t [[{{node Placeholder/_4}}]]\n"
     ]
    },
    {
     "name": "stdout",
     "output_type": "stream",
     "text": [
      "110/110 [==============================] - 7s 61ms/step - loss: 0.1900 - accuracy: 0.9441\n"
     ]
    },
    {
     "data": {
      "text/plain": [
       "{'loss': 0.19001196324825287, 'accuracy': 0.9441109299659729}"
      ]
     },
     "execution_count": 17,
     "metadata": {},
     "output_type": "execute_result"
    }
   ],
   "source": [
    "model.evaluate(test_spectrogram_ds, return_dict=True)"
   ]
  },
  {
   "cell_type": "markdown",
   "id": "ac6bad64-d2b6-4fd2-aadc-72e7642ef29a",
   "metadata": {},
   "source": [
    "### Display a confusion matrix"
   ]
  },
  {
   "cell_type": "code",
   "execution_count": 18,
   "id": "873c0377-8060-4a70-9fca-cb52f227ba48",
   "metadata": {},
   "outputs": [
    {
     "name": "stdout",
     "output_type": "stream",
     "text": [
      "110/110 [==============================] - 3s 29ms/step\n"
     ]
    }
   ],
   "source": [
    "y_pred = model.predict(test_spectrogram_ds)"
   ]
  },
  {
   "cell_type": "code",
   "execution_count": 19,
   "id": "3f3e28e9-0472-4ba4-bfb4-cb112ace58e7",
   "metadata": {},
   "outputs": [],
   "source": [
    "y_pred = tf.argmax(y_pred, axis=1)"
   ]
  },
  {
   "cell_type": "code",
   "execution_count": 20,
   "id": "e96bc987-d105-4a8c-9125-63903bedb837",
   "metadata": {},
   "outputs": [
    {
     "name": "stderr",
     "output_type": "stream",
     "text": [
      "2024-05-04 17:21:12.710705: I tensorflow/core/common_runtime/executor.cc:1197] [/device:CPU:0] (DEBUG INFO) Executor start aborting (this does not indicate an error and you can ignore this message): INVALID_ARGUMENT: You must feed a value for placeholder tensor 'Placeholder/_4' with dtype int32 and shape [13972]\n",
      "\t [[{{node Placeholder/_4}}]]\n",
      "2024-05-04 17:21:12.711497: I tensorflow/core/common_runtime/executor.cc:1197] [/device:CPU:0] (DEBUG INFO) Executor start aborting (this does not indicate an error and you can ignore this message): INVALID_ARGUMENT: You must feed a value for placeholder tensor 'Placeholder/_4' with dtype int32 and shape [13972]\n",
      "\t [[{{node Placeholder/_4}}]]\n"
     ]
    }
   ],
   "source": [
    "y_true = tf.concat(list(test_spectrogram_ds.map(lambda s, lab: lab)), axis=0)"
   ]
  },
  {
   "cell_type": "code",
   "execution_count": 21,
   "id": "264962fa-6676-456a-844b-d3b333f3c70d",
   "metadata": {},
   "outputs": [
    {
     "data": {
      "image/png": "[encoded data removed]",
      "text/plain": [
       "<Figure size 1000x800 with 2 Axes>"
      ]
     },
     "metadata": {},
     "output_type": "display_data"
    }
   ],
   "source": [
    "confusion_mtx = tf.math.confusion_matrix(y_true, y_pred)\n",
    "plt.figure(figsize=(10, 8))\n",
    "sns.heatmap(confusion_mtx,\n",
    "            xticklabels=label_names,\n",
    "            yticklabels=label_names,\n",
    "            annot=True, fmt='g')\n",
    "plt.xlabel('Prediction')\n",
    "plt.ylabel('Label')\n",
    "plt.show()"
   ]
  },
  {
   "cell_type": "markdown",
   "id": "f690215c-04fd-4ced-bd9f-ad0e3a4e3131",
   "metadata": {},
   "source": [
    "### Export the model w/ preprocessing"
   ]
  },
  {
   "cell_type": "code",
   "execution_count": 22,
   "id": "0a8b85ea-52f4-4430-be78-6b6ae045af15",
   "metadata": {},
   "outputs": [],
   "source": [
    "class ExportModel(tf.Module):\n",
    "    def __init__(self, model):\n",
    "        self.model = model\n",
    "        \n",
    "        # string filename\n",
    "        self.__call__.get_concrete_function(x=tf.TensorSpec(shape=(), dtype=tf.string))\n",
    "\n",
    "        # batch of waveforms\n",
    "        self.__call__.get_concrete_function(x=tf.TensorSpec(shape=[None, 16000], dtype=tf.float32))\n",
    "\n",
    "    @tf.function\n",
    "    def __call__(self, x):\n",
    "        # if string filename, load the file and decode it\n",
    "        if x.dtype == tf.string:\n",
    "            x = tf.io.read_file(x)\n",
    "            x, _ = tf.audio.decode_wav(x, desired_channels=1, desired_samples=16000)\n",
    "            x = tf.squeeze(x, axis=-1)\n",
    "            x = x[tf.newaxis, :]\n",
    "\n",
    "        x = get_spectrogram(x)\n",
    "        result = self.model(x, training=False)\n",
    "\n",
    "        class_ids = tf.argmax(result, axis=-1)\n",
    "        class_names = tf.gather(label_names, class_ids)\n",
    "        return {'predictions': result,\n",
    "                'class_ids': class_ids,\n",
    "                'class_names': class_names}"
   ]
  },
  {
   "cell_type": "markdown",
   "id": "35ada611-18cc-4de8-b21d-6100ca32ed28",
   "metadata": {},
   "source": [
    "### Run the export model"
   ]
  },
  {
   "cell_type": "code",
   "execution_count": 23,
   "id": "377b1925-3691-4ca6-bd93-a0b0c0752029",
   "metadata": {},
   "outputs": [
    {
     "name": "stdout",
     "output_type": "stream",
     "text": [
      "Prediction: yes\n"
     ]
    }
   ],
   "source": [
    "export = ExportModel(model)\n",
    "res = export(tf.constant(str(data_dir/'../yes.wav')))\n",
    "label = label_names[res['predictions'].numpy().argmax()]\n",
    "print('Prediction:', label)"
   ]
  },
  {
   "cell_type": "markdown",
   "id": "fd7cc41b-8d9d-4c37-a062-f369a67a53d4",
   "metadata": {},
   "source": [
    "### Save and reload the model"
   ]
  },
  {
   "cell_type": "code",
   "execution_count": 24,
   "id": "4a3dc218-19e0-40e4-a42f-daf11cf10dc3",
   "metadata": {},
   "outputs": [
    {
     "name": "stderr",
     "output_type": "stream",
     "text": [
      "2024-05-04 17:21:14.173554: I tensorflow/core/common_runtime/executor.cc:1197] [/device:CPU:0] (DEBUG INFO) Executor start aborting (this does not indicate an error and you can ignore this message): INVALID_ARGUMENT: You must feed a value for placeholder tensor 'inputs' with dtype float and shape [?,6,6,128]\n",
      "\t [[{{node inputs}}]]\n",
      "2024-05-04 17:21:14.193922: I tensorflow/core/common_runtime/executor.cc:1197] [/device:CPU:0] (DEBUG INFO) Executor start aborting (this does not indicate an error and you can ignore this message): INVALID_ARGUMENT: You must feed a value for placeholder tensor 'inputs' with dtype float and shape [?,128]\n",
      "\t [[{{node inputs}}]]\n",
      "2024-05-04 17:21:14.494169: I tensorflow/core/common_runtime/executor.cc:1197] [/device:CPU:0] (DEBUG INFO) Executor start aborting (this does not indicate an error and you can ignore this message): INVALID_ARGUMENT: You must feed a value for placeholder tensor 'inputs' with dtype float and shape [?,6,6,128]\n",
      "\t [[{{node inputs}}]]\n",
      "2024-05-04 17:21:14.528612: I tensorflow/core/common_runtime/executor.cc:1197] [/device:CPU:0] (DEBUG INFO) Executor start aborting (this does not indicate an error and you can ignore this message): INVALID_ARGUMENT: You must feed a value for placeholder tensor 'inputs' with dtype float and shape [?,128]\n",
      "\t [[{{node inputs}}]]\n",
      "WARNING:absl:Found untraced functions such as _jit_compiled_convolution_op, _jit_compiled_convolution_op, _jit_compiled_convolution_op, _update_step_xla while saving (showing 4 of 4). These functions will not be directly callable after loading.\n"
     ]
    },
    {
     "name": "stdout",
     "output_type": "stream",
     "text": [
      "INFO:tensorflow:Assets written to: saved_mini_with_numbers/assets\n"
     ]
    },
    {
     "name": "stderr",
     "output_type": "stream",
     "text": [
      "INFO:tensorflow:Assets written to: saved_mini_with_numbers/assets\n"
     ]
    }
   ],
   "source": [
    "tf.saved_model.save(export, 'saved_mini_with_numbers')\n",
    "imported = tf.saved_model.load('saved_mini_with_numbers')"
   ]
  },
  {
   "cell_type": "code",
   "execution_count": 25,
   "id": "97d14a9b-4302-49b4-8198-dca0c4f85468",
   "metadata": {},
   "outputs": [],
   "source": [
    "def get_waveform(wavfile):\n",
    "    x = tf.io.read_file(str(wavfile))\n",
    "    x, sample_rate = tf.audio.decode_wav(x, desired_channels=1, desired_samples=16000)\n",
    "    return tf.squeeze(x, axis=-1)"
   ]
  },
  {
   "cell_type": "code",
   "execution_count": 26,
   "id": "ea6320ad-6ca3-4734-8808-bafe0159b360",
   "metadata": {},
   "outputs": [
    {
     "name": "stdout",
     "output_type": "stream",
     "text": [
      "('yes', 10.644114)\n",
      "('six', -1.2344902)\n",
      "('left', -2.3191342)\n",
      "('zero', -2.9374099)\n",
      "('go', -3.035251)\n",
      "('two', -3.3435931)\n",
      "('stop', -4.606053)\n",
      "('four', -5.126477)\n",
      "('eight', -5.4230585)\n",
      "('seven', -5.534938)\n",
      "('no', -5.5767064)\n",
      "('one', -7.7293243)\n",
      "('down', -7.8283467)\n",
      "('up', -8.428621)\n",
      "('right', -8.852313)\n",
      "('three', -9.351572)\n",
      "('five', -15.984757)\n",
      "('nine', -16.149652)\n",
      "Prediction: yes\n"
     ]
    }
   ],
   "source": [
    "#waveform = get_waveform(data_dir/'../yes.wav')\n",
    "waveform = get_waveform('/Users/drank/dev/ml/audio/simple-sr/tools/test-16.wav')\n",
    "m = imported(waveform[tf.newaxis, :])\n",
    "z = zip(label_names, m['predictions'].numpy()[0])\n",
    "z = [x for x in z]\n",
    "\n",
    "res = sorted(z, key=lambda x: x[1], reverse=True) \n",
    "label = label_names[m['predictions'].numpy().argmax()]\n",
    "\n",
    "for r in res:\n",
    "    print(r)\n",
    "print('Prediction:', label)"
   ]
  },
  {
   "cell_type": "code",
   "execution_count": 32,
   "id": "40c88fb2-e6ac-40f5-a3f6-0224123ff24a",
   "metadata": {},
   "outputs": [
    {
     "data": {
      "image/png": "[encoded data removed]",
      "text/plain": [
       "<Figure size 1600x600 with 1 Axes>"
      ]
     },
     "metadata": {},
     "output_type": "display_data"
    },
    {
     "name": "stdout",
     "output_type": "stream",
     "text": [
      "Label: yes\n",
      "Waveform shape: (16000,)\n",
      "Spectrogram shape: (124, 129, 1)\n",
      "Audio playback\n"
     ]
    },
    {
     "data": {
      "text/html": [
       "\n",
       "                <audio  controls=\"controls\" >\n",
       "                    <source src=\"data:audio/wav;base64,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\" type=\"audio/wav\" />\n",
       "                    Your browser does not support the audio element.\n",
       "                </audio>\n",
       "              "
      ],
      "text/plain": [
       "<IPython.lib.display.Audio object>"
      ]
     },
     "metadata": {},
     "output_type": "display_data"
    }
   ],
   "source": [
    "plt.figure(figsize=(16,6))\n",
    "plt.bar(label_names, tf.nn.softmax(m['predictions'][0]))\n",
    "plt.title(label)\n",
    "plt.show()\n",
    "\n",
    "spectrogram = get_spectrogram(waveform)\n",
    "\n",
    "print('Label:', label)\n",
    "print('Waveform shape:', waveform.shape)\n",
    "print('Spectrogram shape:', spectrogram.shape)\n",
    "print('Audio playback')\n",
    "display.display(display.Audio(waveform, rate=16000))"
   ]
  },
  {
   "cell_type": "markdown",
   "id": "d7a2b982-0952-4656-a71d-c1bd1c3ce3d2",
   "metadata": {},
   "source": [
    "### Save the model as HDF5"
   ]
  },
  {
   "cell_type": "code",
   "execution_count": 28,
   "id": "ea0de4c7-9526-490a-aace-e022d2187107",
   "metadata": {},
   "outputs": [],
   "source": [
    "model.save('simple-sr_mini_with_numbers.h5', save_format='h5')"
   ]
  },
  {
   "cell_type": "markdown",
   "id": "4fb31969-7615-483a-ae4d-759c2ccc2cb9",
   "metadata": {},
   "source": [
    "### Load the HDF5 model"
   ]
  },
  {
   "cell_type": "code",
   "execution_count": 29,
   "id": "76de347c-71a0-4214-9212-7966b2b29829",
   "metadata": {},
   "outputs": [
    {
     "name": "stdout",
     "output_type": "stream",
     "text": [
      "Model: \"sequential\"\n",
      "_________________________________________________________________\n",
      " Layer (type)                Output Shape              Param #   \n",
      "=================================================================\n",
      " resizing (Resizing)         (None, 64, 64, 1)         0         \n",
      "                                                                 \n",
      " normalization (Normalizatio  (None, 64, 64, 1)        3         \n",
      " n)                                                              \n",
      "                                                                 \n",
      " conv2d (Conv2D)             (None, 62, 62, 32)        320       \n",
      "                                                                 \n",
      " max_pooling2d (MaxPooling2D  (None, 31, 31, 32)       0         \n",
      " )                                                               \n",
      "                                                                 \n",
      " conv2d_1 (Conv2D)           (None, 29, 29, 64)        18496     \n",
      "                                                                 \n",
      " max_pooling2d_1 (MaxPooling  (None, 14, 14, 64)       0         \n",
      " 2D)                                                             \n",
      "                                                                 \n",
      " conv2d_2 (Conv2D)           (None, 12, 12, 128)       73856     \n",
      "                                                                 \n",
      " max_pooling2d_2 (MaxPooling  (None, 6, 6, 128)        0         \n",
      " 2D)                                                             \n",
      "                                                                 \n",
      " dropout (Dropout)           (None, 6, 6, 128)         0         \n",
      "                                                                 \n",
      " flatten (Flatten)           (None, 4608)              0         \n",
      "                                                                 \n",
      " dense (Dense)               (None, 128)               589952    \n",
      "                                                                 \n",
      " dropout_1 (Dropout)         (None, 128)               0         \n",
      "                                                                 \n",
      " dense_1 (Dense)             (None, 18)                2322      \n",
      "                                                                 \n",
      "=================================================================\n",
      "Total params: 684,949\n",
      "Trainable params: 684,946\n",
      "Non-trainable params: 3\n",
      "_________________________________________________________________\n"
     ]
    }
   ],
   "source": [
    "h5_model = tf.keras.models.load_model('simple-sr_mini_with_numbers.h5')\n",
    "h5_model.summary()"
   ]
  },
  {
   "cell_type": "markdown",
   "id": "292da8eb-5f5e-4394-834b-10f888e43785",
   "metadata": {},
   "source": [
    "### Test the HDF5 model"
   ]
  },
  {
   "cell_type": "code",
   "execution_count": 30,
   "id": "1c67cf42-6b45-4f75-aef7-d37024fe9451",
   "metadata": {},
   "outputs": [
    {
     "name": "stdout",
     "output_type": "stream",
     "text": [
      "Prediction: yes\n"
     ]
    },
    {
     "data": {
      "text/plain": [
       "<tf.Tensor: shape=(1, 18), dtype=float32, numpy=\n",
       "array([[ -7.8283467,  -5.4230585, -15.984757 ,  -5.126477 ,  -3.035251 ,\n",
       "         -2.3191342, -16.149652 ,  -5.5767064,  -7.7293243,  -8.852313 ,\n",
       "         -5.534938 ,  -1.2344902,  -4.606053 ,  -9.351572 ,  -3.3435931,\n",
       "         -8.428621 ,  10.644114 ,  -2.9374099]], dtype=float32)>"
      ]
     },
     "execution_count": 30,
     "metadata": {},
     "output_type": "execute_result"
    }
   ],
   "source": [
    "input_data = get_spectrogram(waveform)\n",
    "input_data = input_data[tf.newaxis,...]\n",
    "result = h5_model(input_data, training=False)\n",
    "label = label_names[m['predictions'].numpy().argmax()]\n",
    "print('Prediction:', label)\n",
    "result"
   ]
  },
  {
   "cell_type": "code",
   "execution_count": null,
   "id": "73a6bca6-41f0-4ba5-bd89-749e113330d1",
   "metadata": {},
   "outputs": [],
   "source": []
  }
 ],
 "metadata": {
  "kernelspec": {
   "display_name": "Python 3 (ipykernel)",
   "language": "python",
   "name": "python3"
  },
  "language_info": {
   "codemirror_mode": {
    "name": "ipython",
    "version": 3
   },
   "file_extension": ".py",
   "mimetype": "text/x-python",
   "name": "python",
   "nbconvert_exporter": "python",
   "pygments_lexer": "ipython3",
   "version": "3.11.5"
  }
 },
 "nbformat": 4,
 "nbformat_minor": 5
}
