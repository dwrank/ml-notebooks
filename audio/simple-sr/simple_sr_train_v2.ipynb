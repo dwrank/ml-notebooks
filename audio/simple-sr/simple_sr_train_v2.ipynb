{
 "cells": [
  {
   "cell_type": "markdown",
   "id": "5b200f86-d201-4c0e-8f22-b001c9ae3ec5",
   "metadata": {},
   "source": [
    "# Simple Speech Recognition v2\n",
    "### From the tensorflow tutorial: https://www.tensorflow.org/tutorials/audio/simple_audio"
   ]
  },
  {
   "cell_type": "code",
   "execution_count": 1,
   "id": "65aa53cb-06cf-4746-a3eb-bfa38a58ce79",
   "metadata": {},
   "outputs": [
    {
     "name": "stderr",
     "output_type": "stream",
     "text": [
      "2024-05-03 18:04:53.457433: I tensorflow/core/platform/cpu_feature_guard.cc:182] This TensorFlow binary is optimized to use available CPU instructions in performance-critical operations.\n",
      "To enable the following instructions: SSE4.1 SSE4.2 AVX AVX2 FMA, in other operations, rebuild TensorFlow with the appropriate compiler flags.\n"
     ]
    }
   ],
   "source": [
    "import os\n",
    "import logging\n",
    "\n",
    "import pathlib\n",
    "\n",
    "import matplotlib.pyplot as plt\n",
    "import numpy as np\n",
    "import seaborn as sns\n",
    "import tensorflow as tf\n",
    "\n",
    "from tensorflow.keras import layers\n",
    "from tensorflow.keras import models\n",
    "from IPython import display"
   ]
  },
  {
   "cell_type": "markdown",
   "id": "0e0be663-d379-4c41-9ca6-e0e4628e3a8d",
   "metadata": {},
   "source": [
    "## Seed the RNG and download data if there is none."
   ]
  },
  {
   "cell_type": "code",
   "execution_count": 2,
   "id": "d5a49c1a-84c5-4088-b7d3-abb8c7225d8c",
   "metadata": {},
   "outputs": [],
   "source": [
    "seed = 42\n",
    "tf.random.set_seed(seed)\n",
    "np.random.seed(seed)\n",
    "\n",
    "# download the dataset from http://download.tensorflow.org/data/speech_commands_v0.02.tar.gz\n",
    "DATASET_PATH = 'data/mini_speech_commands_v2'\n",
    "data_dir = pathlib.Path(DATASET_PATH)"
   ]
  },
  {
   "cell_type": "code",
   "execution_count": 3,
   "id": "fe34c0aa-a735-4eb3-bb13-9f3245873a58",
   "metadata": {},
   "outputs": [
    {
     "name": "stdout",
     "output_type": "stream",
     "text": [
      "Commands: ['right' 'go' 'no' 'left' 'stop' 'up' 'down' 'yes']\n"
     ]
    }
   ],
   "source": [
    "commands = np.array(tf.io.gfile.listdir(str(data_dir)))\n",
    "commands = commands[(commands != 'README.md') & (commands != '.DS_Store')]\n",
    "print('Commands:', commands)"
   ]
  },
  {
   "cell_type": "markdown",
   "id": "d02b8160-480c-4cf6-9e1f-5732268940a8",
   "metadata": {},
   "source": [
    "## Split the data in training and validation sets."
   ]
  },
  {
   "cell_type": "code",
   "execution_count": 4,
   "id": "510fcaf9-093b-4a81-ae78-2312914df85f",
   "metadata": {},
   "outputs": [
    {
     "name": "stdout",
     "output_type": "stream",
     "text": [
      "Found 30956 files belonging to 8 classes.\n",
      "Using 24765 files for training.\n",
      "Using 6191 files for validation.\n",
      "\n",
      "label names: ['down' 'go' 'left' 'no' 'right' 'stop' 'up' 'yes']\n"
     ]
    }
   ],
   "source": [
    "# <= 1 seconds audio clips at 16KHz\n",
    "# output_sequence_length pads and trims to 1 second to be easily batched.\n",
    "train_ds, val_ds = tf.keras.utils.audio_dataset_from_directory(\n",
    "        directory=data_dir,\n",
    "        batch_size=64,\n",
    "        validation_split=0.2,\n",
    "        seed=0,\n",
    "        output_sequence_length=16000,\n",
    "        subset='both')\n",
    "\n",
    "label_names = np.array(train_ds.class_names)\n",
    "print('\\nlabel names:', label_names)"
   ]
  },
  {
   "cell_type": "code",
   "execution_count": 5,
   "id": "c1ae2b4c-aae0-40e4-9d3f-506dfb6a3612",
   "metadata": {},
   "outputs": [
    {
     "data": {
      "text/plain": [
       "(TensorSpec(shape=(None, 16000, None), dtype=tf.float32, name=None),\n",
       " TensorSpec(shape=(None,), dtype=tf.int32, name=None))"
      ]
     },
     "execution_count": 5,
     "metadata": {},
     "output_type": "execute_result"
    }
   ],
   "source": [
    "train_ds.element_spec"
   ]
  },
  {
   "cell_type": "code",
   "execution_count": 6,
   "id": "d6eb1816-b468-40dc-89fe-758e1d8cebf0",
   "metadata": {},
   "outputs": [],
   "source": [
    "# only single channel audio, so use tf.squeeze to drop the extra axis\n",
    "def squeeze(audio, labels):\n",
    "    audio = tf.squeeze(audio, axis=-1)\n",
    "    return audio, labels\n",
    "\n",
    "train_ds = train_ds.map(squeeze, tf.data.AUTOTUNE)\n",
    "val_ds = val_ds.map(squeeze, tf.data.AUTOTUNE)"
   ]
  },
  {
   "cell_type": "markdown",
   "id": "c550b29f-d383-451c-8926-00f67f414614",
   "metadata": {},
   "source": [
    "## Split off a test set from the validation data."
   ]
  },
  {
   "cell_type": "code",
   "execution_count": 7,
   "id": "61fad09d-506e-46ad-a1e7-03ea07940ccf",
   "metadata": {},
   "outputs": [
    {
     "name": "stdout",
     "output_type": "stream",
     "text": [
      "(64, 16000)\n",
      "(64,)\n"
     ]
    },
    {
     "name": "stderr",
     "output_type": "stream",
     "text": [
      "2024-05-03 18:04:57.848077: I tensorflow/core/common_runtime/executor.cc:1197] [/device:CPU:0] (DEBUG INFO) Executor start aborting (this does not indicate an error and you can ignore this message): INVALID_ARGUMENT: You must feed a value for placeholder tensor 'Placeholder/_4' with dtype int32 and shape [24765]\n",
      "\t [[{{node Placeholder/_4}}]]\n",
      "2024-05-03 18:04:57.848517: I tensorflow/core/common_runtime/executor.cc:1197] [/device:CPU:0] (DEBUG INFO) Executor start aborting (this does not indicate an error and you can ignore this message): INVALID_ARGUMENT: You must feed a value for placeholder tensor 'Placeholder/_0' with dtype string and shape [24765]\n",
      "\t [[{{node Placeholder/_0}}]]\n"
     ]
    }
   ],
   "source": [
    "# split off a test set from the validation set\n",
    "test_ds = val_ds.shard(num_shards=2, index=0)\n",
    "val_ds = val_ds.shard(num_shards=2, index=1)\n",
    "\n",
    "for example_audio, example_labels in train_ds.take(1):\n",
    "    print(example_audio.shape)\n",
    "    print(example_labels.shape)"
   ]
  },
  {
   "cell_type": "markdown",
   "id": "301430fe-f5fb-4acd-948c-091191eba08d",
   "metadata": {},
   "source": [
    "## Convert waveforms to spectrograms"
   ]
  },
  {
   "cell_type": "markdown",
   "id": "7a402618-8d4d-48dd-9bdf-39dee6138ca8",
   "metadata": {},
   "source": [
    "The waveforms in the dataset are represented in the time domain. Next, you'll transform the waveforms from the time-domain signals into the time-frequency-domain signals by computing the short-time Fourier transform (STFT) to convert the waveforms to spectrograms, which show frequency changes over time and can be represented as 2D images. You will feed the spectrogram images into your neural network to train the model."
   ]
  },
  {
   "cell_type": "code",
   "execution_count": 8,
   "id": "034fd795-4428-4d50-93bc-28955b2a087c",
   "metadata": {},
   "outputs": [],
   "source": [
    "def get_spectrogram(waveform):\n",
    "    # Convert the waveform to a spectrogram via a STFT\n",
    "    spectrogram = tf.signal.stft(waveform, frame_length=255, frame_step=128)\n",
    "\n",
    "    # Obtain the magnitude of the STFT\n",
    "    spectrogram = tf.abs(spectrogram)\n",
    "\n",
    "    # Add a 'channels' dimension, so that the spectrogram can be used as an\n",
    "    # image-like input data w/ convolution layers, which expect shape\n",
    "    # (batch_size, height, width, channels)\n",
    "    spectrogram = spectrogram[..., tf.newaxis]\n",
    "    return spectrogram"
   ]
  },
  {
   "cell_type": "markdown",
   "id": "4e42d47e-4845-475d-a815-2962fa86af18",
   "metadata": {},
   "source": [
    "### Create Spectrogram Datasets"
   ]
  },
  {
   "cell_type": "code",
   "execution_count": 9,
   "id": "a6aff442-4259-4370-bcc6-2b094950226b",
   "metadata": {},
   "outputs": [],
   "source": [
    "def make_spec_ds(ds):\n",
    "    return ds.map(map_func=lambda audio, label: (get_spectrogram(audio), label),\n",
    "                  num_parallel_calls=tf.data.AUTOTUNE)"
   ]
  },
  {
   "cell_type": "code",
   "execution_count": 10,
   "id": "cf664906-2370-4ae7-a6d0-f99cb85eefb4",
   "metadata": {},
   "outputs": [],
   "source": [
    "train_spectrogram_ds = make_spec_ds(train_ds)\n",
    "val_spectrogram_ds = make_spec_ds(val_ds)\n",
    "test_spectrogram_ds = make_spec_ds(test_ds)"
   ]
  },
  {
   "cell_type": "markdown",
   "id": "f6401d5c-b71e-4d92-90aa-b465b4f7a760",
   "metadata": {},
   "source": [
    "### Build and Train the Model"
   ]
  },
  {
   "cell_type": "code",
   "execution_count": 11,
   "id": "e4344f3f-5963-4991-a982-ea91b23b067e",
   "metadata": {},
   "outputs": [],
   "source": [
    "train_spectrogram_ds = train_spectrogram_ds.cache().shuffle(10000).prefetch(tf.data.AUTOTUNE)\n",
    "val_spectrogram_ds = val_spectrogram_ds.cache().prefetch(tf.data.AUTOTUNE)\n",
    "test_spectrogram_ds = test_spectrogram_ds.cache().prefetch(tf.data.AUTOTUNE)"
   ]
  },
  {
   "cell_type": "markdown",
   "id": "1c6ec949-bd9b-4f90-9e1f-24d3af5c9774",
   "metadata": {},
   "source": [
    "## Use a CNN since the audio files have been transformed into spectrogram images\n",
    "### The tf.kera.Sequenctial will use the preprocessing layers:\n",
    "- layers.Resizing to downsample to input to enable the model to train faster.\n",
    "- layers.Normalization to normalize each pixel in the image based on it's mean and std"
   ]
  },
  {
   "cell_type": "code",
   "execution_count": 12,
   "id": "415d600f-162d-43dc-bd41-3e3643b690bf",
   "metadata": {},
   "outputs": [
    {
     "name": "stderr",
     "output_type": "stream",
     "text": [
      "2024-05-03 18:04:58.193452: I tensorflow/core/common_runtime/executor.cc:1197] [/device:CPU:0] (DEBUG INFO) Executor start aborting (this does not indicate an error and you can ignore this message): INVALID_ARGUMENT: You must feed a value for placeholder tensor 'Placeholder/_4' with dtype int32 and shape [24765]\n",
      "\t [[{{node Placeholder/_4}}]]\n",
      "2024-05-03 18:04:58.193897: I tensorflow/core/common_runtime/executor.cc:1197] [/device:CPU:0] (DEBUG INFO) Executor start aborting (this does not indicate an error and you can ignore this message): INVALID_ARGUMENT: You must feed a value for placeholder tensor 'Placeholder/_4' with dtype int32 and shape [24765]\n",
      "\t [[{{node Placeholder/_4}}]]\n",
      "2024-05-03 18:05:08.233486: I tensorflow/core/kernels/data/shuffle_dataset_op.cc:392] Filling up shuffle buffer (this may take a while): 347 of 10000\n",
      "2024-05-03 18:05:09.265708: I tensorflow/core/kernels/data/shuffle_dataset_op.cc:417] Shuffle buffer filled.\n",
      "2024-05-03 18:05:09.295680: I tensorflow/core/common_runtime/executor.cc:1197] [/device:CPU:0] (DEBUG INFO) Executor start aborting (this does not indicate an error and you can ignore this message): INVALID_ARGUMENT: You must feed a value for placeholder tensor 'Placeholder/_4' with dtype int32 and shape [24765]\n",
      "\t [[{{node Placeholder/_4}}]]\n",
      "2024-05-03 18:05:09.296075: I tensorflow/core/common_runtime/executor.cc:1197] [/device:CPU:0] (DEBUG INFO) Executor start aborting (this does not indicate an error and you can ignore this message): INVALID_ARGUMENT: You must feed a value for placeholder tensor 'Placeholder/_4' with dtype int32 and shape [24765]\n",
      "\t [[{{node Placeholder/_4}}]]\n"
     ]
    },
    {
     "name": "stdout",
     "output_type": "stream",
     "text": [
      "Input shape: (124, 129, 1)\n",
      "Model: \"sequential\"\n",
      "_________________________________________________________________\n",
      " Layer (type)                Output Shape              Param #   \n",
      "=================================================================\n",
      " resizing (Resizing)         (None, 64, 64, 1)         0         \n",
      "                                                                 \n",
      " normalization (Normalizatio  (None, 64, 64, 1)        3         \n",
      " n)                                                              \n",
      "                                                                 \n",
      " conv2d (Conv2D)             (None, 62, 62, 32)        320       \n",
      "                                                                 \n",
      " max_pooling2d (MaxPooling2D  (None, 31, 31, 32)       0         \n",
      " )                                                               \n",
      "                                                                 \n",
      " conv2d_1 (Conv2D)           (None, 29, 29, 64)        18496     \n",
      "                                                                 \n",
      " max_pooling2d_1 (MaxPooling  (None, 14, 14, 64)       0         \n",
      " 2D)                                                             \n",
      "                                                                 \n",
      " conv2d_2 (Conv2D)           (None, 12, 12, 128)       73856     \n",
      "                                                                 \n",
      " max_pooling2d_2 (MaxPooling  (None, 6, 6, 128)        0         \n",
      " 2D)                                                             \n",
      "                                                                 \n",
      " dropout (Dropout)           (None, 6, 6, 128)         0         \n",
      "                                                                 \n",
      " flatten (Flatten)           (None, 4608)              0         \n",
      "                                                                 \n",
      " dense (Dense)               (None, 128)               589952    \n",
      "                                                                 \n",
      " dropout_1 (Dropout)         (None, 128)               0         \n",
      "                                                                 \n",
      " dense_1 (Dense)             (None, 8)                 1032      \n",
      "                                                                 \n",
      "=================================================================\n",
      "Total params: 683,659\n",
      "Trainable params: 683,656\n",
      "Non-trainable params: 3\n",
      "_________________________________________________________________\n"
     ]
    }
   ],
   "source": [
    "for example_spectrograms, example_spect_labels in train_spectrogram_ds.take(1):\n",
    "    break\n",
    "\n",
    "input_shape = example_spectrograms.shape[1:]\n",
    "print('Input shape:', input_shape)\n",
    "\n",
    "num_labels = len(label_names)\n",
    "\n",
    "# Instantiate the normalization layer\n",
    "norm_layer = layers.Normalization()\n",
    "\n",
    "# Fit the state of the layer to the spectrogram\n",
    "norm_layer.adapt(data=train_spectrogram_ds.map(map_func=lambda spec, label: spec))\n",
    "\n",
    "model = models.Sequential([\n",
    "    layers.Input(shape=input_shape),\n",
    "    # Downsample the input\n",
    "    layers.Resizing(64, 64),\n",
    "    # Normalize\n",
    "    norm_layer,\n",
    "    layers.Conv2D(32, 3, activation='relu'),\n",
    "    layers.MaxPooling2D(),\n",
    "    layers.Conv2D(64, 3, activation='relu'),\n",
    "    layers.MaxPooling2D(),\n",
    "    layers.Conv2D(128, 3, activation='relu'),\n",
    "    layers.MaxPooling2D(),\n",
    "    layers.Dropout(0.25),\n",
    "    layers.Flatten(),\n",
    "    layers.Dense(128, activation='relu'),\n",
    "    layers.Dropout(0.5),\n",
    "    layers.Dense(num_labels),\n",
    "])\n",
    "\n",
    "model.summary()"
   ]
  },
  {
   "cell_type": "markdown",
   "id": "b1d11dce-66fa-4f08-849b-e2f311c64a2b",
   "metadata": {},
   "source": [
    "### Taking a look at the norm layer"
   ]
  },
  {
   "cell_type": "code",
   "execution_count": 13,
   "id": "9c454892-c9f8-42d4-a146-903371c15503",
   "metadata": {},
   "outputs": [
    {
     "data": {
      "text/plain": [
       "(array([[[[0.13509819]]]], dtype=float32),\n",
       " array([[[[0.6526408]]]], dtype=float32),\n",
       " 396140940)"
      ]
     },
     "execution_count": 13,
     "metadata": {},
     "output_type": "execute_result"
    }
   ],
   "source": [
    "norm_layer.mean.numpy(), norm_layer.variance.numpy(), norm_layer.count.numpy()"
   ]
  },
  {
   "cell_type": "markdown",
   "id": "4d121e21-94fb-4b2e-b9a4-6c6ed1d46f34",
   "metadata": {},
   "source": [
    "### Configure the Keras model w/ the Adam optimizer and the cross-entropy loss"
   ]
  },
  {
   "cell_type": "code",
   "execution_count": 14,
   "id": "0cc6cb4f-d4b7-408f-a39b-0f793c96209a",
   "metadata": {},
   "outputs": [],
   "source": [
    "model.compile(\n",
    "    optimizer=tf.keras.optimizers.Adam(),\n",
    "    loss=tf.keras.losses.SparseCategoricalCrossentropy(from_logits=True),\n",
    "    metrics=['accuracy'],\n",
    ")"
   ]
  },
  {
   "cell_type": "markdown",
   "id": "cbd9ba5a-42aa-4d98-a659-7dcda957c3c7",
   "metadata": {},
   "source": [
    "### Train the model over 10 epochs for demonstation purposes."
   ]
  },
  {
   "cell_type": "code",
   "execution_count": 15,
   "id": "60e161a2-d53d-45fc-9039-efc5af502763",
   "metadata": {},
   "outputs": [
    {
     "name": "stdout",
     "output_type": "stream",
     "text": [
      "Epoch 1/20\n"
     ]
    },
    {
     "name": "stderr",
     "output_type": "stream",
     "text": [
      "2024-05-03 18:05:10.342898: I tensorflow/core/common_runtime/executor.cc:1197] [/device:CPU:0] (DEBUG INFO) Executor start aborting (this does not indicate an error and you can ignore this message): INVALID_ARGUMENT: You must feed a value for placeholder tensor 'Placeholder/_4' with dtype int32 and shape [24765]\n",
      "\t [[{{node Placeholder/_4}}]]\n",
      "2024-05-03 18:05:10.343694: I tensorflow/core/common_runtime/executor.cc:1197] [/device:CPU:0] (DEBUG INFO) Executor start aborting (this does not indicate an error and you can ignore this message): INVALID_ARGUMENT: You must feed a value for placeholder tensor 'Placeholder/_4' with dtype int32 and shape [24765]\n",
      "\t [[{{node Placeholder/_4}}]]\n"
     ]
    },
    {
     "name": "stdout",
     "output_type": "stream",
     "text": [
      "387/387 [==============================] - ETA: 0s - loss: 1.0959 - accuracy: 0.6169"
     ]
    },
    {
     "name": "stderr",
     "output_type": "stream",
     "text": [
      "2024-05-03 18:05:49.625433: I tensorflow/core/common_runtime/executor.cc:1197] [/device:CPU:0] (DEBUG INFO) Executor start aborting (this does not indicate an error and you can ignore this message): INVALID_ARGUMENT: You must feed a value for placeholder tensor 'Placeholder/_4' with dtype int32 and shape [6191]\n",
      "\t [[{{node Placeholder/_4}}]]\n",
      "2024-05-03 18:05:49.625932: I tensorflow/core/common_runtime/executor.cc:1197] [/device:CPU:0] (DEBUG INFO) Executor start aborting (this does not indicate an error and you can ignore this message): INVALID_ARGUMENT: You must feed a value for placeholder tensor 'Placeholder/_0' with dtype string and shape [6191]\n",
      "\t [[{{node Placeholder/_0}}]]\n"
     ]
    },
    {
     "name": "stdout",
     "output_type": "stream",
     "text": [
      "387/387 [==============================] - 42s 107ms/step - loss: 1.0959 - accuracy: 0.6169 - val_loss: 0.5308 - val_accuracy: 0.8245\n",
      "Epoch 2/20\n",
      "387/387 [==============================] - 40s 103ms/step - loss: 0.5013 - accuracy: 0.8345 - val_loss: 0.3368 - val_accuracy: 0.8955\n",
      "Epoch 3/20\n",
      "387/387 [==============================] - 40s 103ms/step - loss: 0.3511 - accuracy: 0.8850 - val_loss: 0.2591 - val_accuracy: 0.9183\n",
      "Epoch 4/20\n",
      "387/387 [==============================] - 40s 103ms/step - loss: 0.2833 - accuracy: 0.9066 - val_loss: 0.2371 - val_accuracy: 0.9284\n",
      "Epoch 5/20\n",
      "387/387 [==============================] - 41s 105ms/step - loss: 0.2331 - accuracy: 0.9224 - val_loss: 0.2318 - val_accuracy: 0.9264\n",
      "Epoch 6/20\n",
      "387/387 [==============================] - 40s 105ms/step - loss: 0.2107 - accuracy: 0.9308 - val_loss: 0.2058 - val_accuracy: 0.9313\n",
      "Epoch 7/20\n",
      "387/387 [==============================] - 41s 105ms/step - loss: 0.1753 - accuracy: 0.9421 - val_loss: 0.1928 - val_accuracy: 0.9395\n",
      "Epoch 8/20\n",
      "387/387 [==============================] - 40s 103ms/step - loss: 0.1632 - accuracy: 0.9470 - val_loss: 0.1679 - val_accuracy: 0.9460\n",
      "Epoch 9/20\n",
      "387/387 [==============================] - 40s 104ms/step - loss: 0.1488 - accuracy: 0.9496 - val_loss: 0.1839 - val_accuracy: 0.9453\n",
      "Epoch 10/20\n",
      "387/387 [==============================] - 41s 107ms/step - loss: 0.1269 - accuracy: 0.9571 - val_loss: 0.1791 - val_accuracy: 0.9430\n",
      "Epoch 10: early stopping\n"
     ]
    }
   ],
   "source": [
    "EPOCHS = 20\n",
    "history = model.fit(\n",
    "    train_spectrogram_ds,\n",
    "    validation_data=val_spectrogram_ds,\n",
    "    epochs=EPOCHS,\n",
    "    callbacks=tf.keras.callbacks.EarlyStopping(verbose=1, patience=2),\n",
    ")"
   ]
  },
  {
   "cell_type": "markdown",
   "id": "da827b93-f35b-4802-a18d-b3d9d9885fe6",
   "metadata": {},
   "source": [
    "### Plot the training and validation loss curves"
   ]
  },
  {
   "cell_type": "code",
   "execution_count": 16,
   "id": "3a8ccb75-6e95-41a5-8d1e-e315d2512acc",
   "metadata": {},
   "outputs": [
    {
     "data": {
      "text/plain": [
       "Text(0, 0.5, 'Accuracy [%]')"
      ]
     },
     "execution_count": 16,
     "metadata": {},
     "output_type": "execute_result"
    },
    {
     "data": {
      "image/png": "[encoded data removed]",
      "text/plain": [
       "<Figure size 1600x600 with 2 Axes>"
      ]
     },
     "metadata": {},
     "output_type": "display_data"
    }
   ],
   "source": [
    "metrics = history.history\n",
    "plt.figure(figsize=(16,6))\n",
    "plt.subplot(1,2,1)\n",
    "plt.plot(history.epoch, metrics['loss'], metrics['val_loss'])\n",
    "plt.legend(['loss', 'val_loss'])\n",
    "plt.ylim([0, max(plt.ylim())])\n",
    "plt.xlabel('Epoch')\n",
    "plt.ylabel('Loss [CrossEntropy]')\n",
    "\n",
    "plt.subplot(1,2,2)\n",
    "plt.plot(history.epoch, 100*np.array(metrics['accuracy']), 100*np.array(metrics['val_accuracy']))\n",
    "plt.legend(['accuracy', 'val_accuracy'])\n",
    "plt.ylim([0, 100])\n",
    "plt.xlabel('Epoch')\n",
    "plt.ylabel('Accuracy [%]')"
   ]
  },
  {
   "cell_type": "markdown",
   "id": "68833fb8-4a17-4a0f-a808-1c73284baec1",
   "metadata": {},
   "source": [
    "### Evaluate the model on the test set"
   ]
  },
  {
   "cell_type": "code",
   "execution_count": 17,
   "id": "51e893bb-b63f-4b0e-ba97-11d6ccc18276",
   "metadata": {},
   "outputs": [
    {
     "name": "stderr",
     "output_type": "stream",
     "text": [
      "2024-05-03 18:11:55.843501: I tensorflow/core/common_runtime/executor.cc:1197] [/device:CPU:0] (DEBUG INFO) Executor start aborting (this does not indicate an error and you can ignore this message): INVALID_ARGUMENT: You must feed a value for placeholder tensor 'Placeholder/_4' with dtype int32 and shape [6191]\n",
      "\t [[{{node Placeholder/_4}}]]\n",
      "2024-05-03 18:11:55.843839: I tensorflow/core/common_runtime/executor.cc:1197] [/device:CPU:0] (DEBUG INFO) Executor start aborting (this does not indicate an error and you can ignore this message): INVALID_ARGUMENT: You must feed a value for placeholder tensor 'Placeholder/_4' with dtype int32 and shape [6191]\n",
      "\t [[{{node Placeholder/_4}}]]\n"
     ]
    },
    {
     "name": "stdout",
     "output_type": "stream",
     "text": [
      "49/49 [==============================] - 3s 64ms/step - loss: 0.1654 - accuracy: 0.9529\n"
     ]
    },
    {
     "data": {
      "text/plain": [
       "{'loss': 0.1654428094625473, 'accuracy': 0.9528695344924927}"
      ]
     },
     "execution_count": 17,
     "metadata": {},
     "output_type": "execute_result"
    }
   ],
   "source": [
    "model.evaluate(test_spectrogram_ds, return_dict=True)"
   ]
  },
  {
   "cell_type": "markdown",
   "id": "ac6bad64-d2b6-4fd2-aadc-72e7642ef29a",
   "metadata": {},
   "source": [
    "### Display a confusion matrix"
   ]
  },
  {
   "cell_type": "code",
   "execution_count": 18,
   "id": "873c0377-8060-4a70-9fca-cb52f227ba48",
   "metadata": {},
   "outputs": [
    {
     "name": "stdout",
     "output_type": "stream",
     "text": [
      "49/49 [==============================] - 2s 33ms/step\n"
     ]
    }
   ],
   "source": [
    "y_pred = model.predict(test_spectrogram_ds)"
   ]
  },
  {
   "cell_type": "code",
   "execution_count": 19,
   "id": "3f3e28e9-0472-4ba4-bfb4-cb112ace58e7",
   "metadata": {},
   "outputs": [],
   "source": [
    "y_pred = tf.argmax(y_pred, axis=1)"
   ]
  },
  {
   "cell_type": "code",
   "execution_count": 20,
   "id": "e96bc987-d105-4a8c-9125-63903bedb837",
   "metadata": {},
   "outputs": [
    {
     "name": "stderr",
     "output_type": "stream",
     "text": [
      "2024-05-03 18:12:00.861904: I tensorflow/core/common_runtime/executor.cc:1197] [/device:CPU:0] (DEBUG INFO) Executor start aborting (this does not indicate an error and you can ignore this message): INVALID_ARGUMENT: You must feed a value for placeholder tensor 'Placeholder/_4' with dtype int32 and shape [6191]\n",
      "\t [[{{node Placeholder/_4}}]]\n",
      "2024-05-03 18:12:00.862292: I tensorflow/core/common_runtime/executor.cc:1197] [/device:CPU:0] (DEBUG INFO) Executor start aborting (this does not indicate an error and you can ignore this message): INVALID_ARGUMENT: You must feed a value for placeholder tensor 'Placeholder/_0' with dtype string and shape [6191]\n",
      "\t [[{{node Placeholder/_0}}]]\n"
     ]
    }
   ],
   "source": [
    "y_true = tf.concat(list(test_spectrogram_ds.map(lambda s, lab: lab)), axis=0)"
   ]
  },
  {
   "cell_type": "code",
   "execution_count": 21,
   "id": "264962fa-6676-456a-844b-d3b333f3c70d",
   "metadata": {},
   "outputs": [
    {
     "data": {
      "image/png": "[encoded data removed]",
      "text/plain": [
       "<Figure size 1000x800 with 2 Axes>"
      ]
     },
     "metadata": {},
     "output_type": "display_data"
    }
   ],
   "source": [
    "confusion_mtx = tf.math.confusion_matrix(y_true, y_pred)\n",
    "plt.figure(figsize=(10, 8))\n",
    "sns.heatmap(confusion_mtx,\n",
    "            xticklabels=label_names,\n",
    "            yticklabels=label_names,\n",
    "            annot=True, fmt='g')\n",
    "plt.xlabel('Prediction')\n",
    "plt.ylabel('Label')\n",
    "plt.show()"
   ]
  },
  {
   "cell_type": "markdown",
   "id": "f690215c-04fd-4ced-bd9f-ad0e3a4e3131",
   "metadata": {},
   "source": [
    "### Export the model w/ preprocessing"
   ]
  },
  {
   "cell_type": "code",
   "execution_count": 22,
   "id": "0a8b85ea-52f4-4430-be78-6b6ae045af15",
   "metadata": {},
   "outputs": [],
   "source": [
    "class ExportModel(tf.Module):\n",
    "    def __init__(self, model):\n",
    "        self.model = model\n",
    "        \n",
    "        # string filename\n",
    "        self.__call__.get_concrete_function(x=tf.TensorSpec(shape=(), dtype=tf.string))\n",
    "\n",
    "        # batch of waveforms\n",
    "        self.__call__.get_concrete_function(x=tf.TensorSpec(shape=[None, 16000], dtype=tf.float32))\n",
    "\n",
    "    @tf.function\n",
    "    def __call__(self, x):\n",
    "        # if string filename, load the file and decode it\n",
    "        if x.dtype == tf.string:\n",
    "            x = tf.io.read_file(x)\n",
    "            x, _ = tf.audio.decode_wav(x, desired_channels=1, desired_samples=16000)\n",
    "            x = tf.squeeze(x, axis=-1)\n",
    "            x = x[tf.newaxis, :]\n",
    "\n",
    "        x = get_spectrogram(x)\n",
    "        result = self.model(x, training=False)\n",
    "\n",
    "        class_ids = tf.argmax(result, axis=-1)\n",
    "        class_names = tf.gather(label_names, class_ids)\n",
    "        return {'predictions': result,\n",
    "                'class_ids': class_ids,\n",
    "                'class_names': class_names}"
   ]
  },
  {
   "cell_type": "markdown",
   "id": "35ada611-18cc-4de8-b21d-6100ca32ed28",
   "metadata": {},
   "source": [
    "### Run the export model"
   ]
  },
  {
   "cell_type": "code",
   "execution_count": 23,
   "id": "377b1925-3691-4ca6-bd93-a0b0c0752029",
   "metadata": {},
   "outputs": [
    {
     "name": "stdout",
     "output_type": "stream",
     "text": [
      "Prediction: yes\n"
     ]
    }
   ],
   "source": [
    "export = ExportModel(model)\n",
    "res = export(tf.constant(str(data_dir/'../yes.wav')))\n",
    "label = label_names[res['predictions'].numpy().argmax()]\n",
    "print('Prediction:', label)"
   ]
  },
  {
   "cell_type": "markdown",
   "id": "fd7cc41b-8d9d-4c37-a062-f369a67a53d4",
   "metadata": {},
   "source": [
    "### Save and reload the model"
   ]
  },
  {
   "cell_type": "code",
   "execution_count": 24,
   "id": "4a3dc218-19e0-40e4-a42f-daf11cf10dc3",
   "metadata": {},
   "outputs": [
    {
     "name": "stderr",
     "output_type": "stream",
     "text": [
      "2024-05-03 18:12:01.846902: I tensorflow/core/common_runtime/executor.cc:1197] [/device:CPU:0] (DEBUG INFO) Executor start aborting (this does not indicate an error and you can ignore this message): INVALID_ARGUMENT: You must feed a value for placeholder tensor 'inputs' with dtype float and shape [?,6,6,128]\n",
      "\t [[{{node inputs}}]]\n",
      "2024-05-03 18:12:01.862313: I tensorflow/core/common_runtime/executor.cc:1197] [/device:CPU:0] (DEBUG INFO) Executor start aborting (this does not indicate an error and you can ignore this message): INVALID_ARGUMENT: You must feed a value for placeholder tensor 'inputs' with dtype float and shape [?,128]\n",
      "\t [[{{node inputs}}]]\n",
      "2024-05-03 18:12:02.114809: I tensorflow/core/common_runtime/executor.cc:1197] [/device:CPU:0] (DEBUG INFO) Executor start aborting (this does not indicate an error and you can ignore this message): INVALID_ARGUMENT: You must feed a value for placeholder tensor 'inputs' with dtype float and shape [?,6,6,128]\n",
      "\t [[{{node inputs}}]]\n",
      "2024-05-03 18:12:02.147560: I tensorflow/core/common_runtime/executor.cc:1197] [/device:CPU:0] (DEBUG INFO) Executor start aborting (this does not indicate an error and you can ignore this message): INVALID_ARGUMENT: You must feed a value for placeholder tensor 'inputs' with dtype float and shape [?,128]\n",
      "\t [[{{node inputs}}]]\n",
      "WARNING:absl:Found untraced functions such as _jit_compiled_convolution_op, _jit_compiled_convolution_op, _jit_compiled_convolution_op, _update_step_xla while saving (showing 4 of 4). These functions will not be directly callable after loading.\n"
     ]
    },
    {
     "name": "stdout",
     "output_type": "stream",
     "text": [
      "INFO:tensorflow:Assets written to: saved_v2/assets\n"
     ]
    },
    {
     "name": "stderr",
     "output_type": "stream",
     "text": [
      "INFO:tensorflow:Assets written to: saved_v2/assets\n"
     ]
    }
   ],
   "source": [
    "tf.saved_model.save(export, 'saved_v2')\n",
    "imported = tf.saved_model.load('saved_v2')"
   ]
  },
  {
   "cell_type": "code",
   "execution_count": 25,
   "id": "97d14a9b-4302-49b4-8198-dca0c4f85468",
   "metadata": {},
   "outputs": [],
   "source": [
    "def get_waveform(wavfile):\n",
    "    x = tf.io.read_file(str(wavfile))\n",
    "    x, sample_rate = tf.audio.decode_wav(x, desired_channels=1, desired_samples=16000)\n",
    "    return tf.squeeze(x, axis=-1)"
   ]
  },
  {
   "cell_type": "code",
   "execution_count": 26,
   "id": "ea6320ad-6ca3-4734-8808-bafe0159b360",
   "metadata": {},
   "outputs": [
    {
     "name": "stdout",
     "output_type": "stream",
     "text": [
      "[('down', -0.30877993), ('go', 4.875862), ('left', -3.8557582), ('no', -0.36339486), ('right', -1.6876916), ('stop', -0.12743157), ('up', -1.1972897), ('yes', -1.9126966)]\n",
      "Prediction: go\n"
     ]
    }
   ],
   "source": [
    "#waveform = get_waveform(data_dir/'../yes.wav')\n",
    "waveform = get_waveform('/Users/drank/dev/ml/audio/simple-sr/tools/test-16.wav')\n",
    "m = imported(waveform[tf.newaxis, :])\n",
    "z = zip(label_names, m['predictions'].numpy()[0])\n",
    "z = [x for x in z]\n",
    "print(z)\n",
    "label = label_names[m['predictions'].numpy().argmax()]\n",
    "print('Prediction:', label)"
   ]
  },
  {
   "cell_type": "code",
   "execution_count": 27,
   "id": "40c88fb2-e6ac-40f5-a3f6-0224123ff24a",
   "metadata": {},
   "outputs": [
    {
     "data": {
      "image/png": "[encoded data removed]",
      "text/plain": [
       "<Figure size 640x480 with 1 Axes>"
      ]
     },
     "metadata": {},
     "output_type": "display_data"
    },
    {
     "name": "stdout",
     "output_type": "stream",
     "text": [
      "Label: go\n",
      "Waveform shape: (16000,)\n",
      "Spectrogram shape: (124, 129, 1)\n",
      "Audio playback\n"
     ]
    },
    {
     "data": {
      "text/html": [
       "\n",
       "                <audio  controls=\"controls\" >\n",
       "                    <source src=\"data:audio/wav;base64,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\" type=\"audio/wav\" />\n",
       "                    Your browser does not support the audio element.\n",
       "                </audio>\n",
       "              "
      ],
      "text/plain": [
       "<IPython.lib.display.Audio object>"
      ]
     },
     "metadata": {},
     "output_type": "display_data"
    }
   ],
   "source": [
    "plt.bar(label_names, tf.nn.softmax(m['predictions'][0]))\n",
    "plt.title(label)\n",
    "plt.show()\n",
    "\n",
    "spectrogram = get_spectrogram(waveform)\n",
    "\n",
    "print('Label:', label)\n",
    "print('Waveform shape:', waveform.shape)\n",
    "print('Spectrogram shape:', spectrogram.shape)\n",
    "print('Audio playback')\n",
    "display.display(display.Audio(waveform, rate=16000))"
   ]
  },
  {
   "cell_type": "markdown",
   "id": "d7a2b982-0952-4656-a71d-c1bd1c3ce3d2",
   "metadata": {},
   "source": [
    "### Save the model as HDF5"
   ]
  },
  {
   "cell_type": "code",
   "execution_count": 28,
   "id": "ea0de4c7-9526-490a-aace-e022d2187107",
   "metadata": {},
   "outputs": [],
   "source": [
    "model.save('simple-sr_v2.h5', save_format='h5')"
   ]
  },
  {
   "cell_type": "markdown",
   "id": "4fb31969-7615-483a-ae4d-759c2ccc2cb9",
   "metadata": {},
   "source": [
    "### Load the HDF5 model"
   ]
  },
  {
   "cell_type": "code",
   "execution_count": 29,
   "id": "76de347c-71a0-4214-9212-7966b2b29829",
   "metadata": {},
   "outputs": [
    {
     "name": "stdout",
     "output_type": "stream",
     "text": [
      "Model: \"sequential\"\n",
      "_________________________________________________________________\n",
      " Layer (type)                Output Shape              Param #   \n",
      "=================================================================\n",
      " resizing (Resizing)         (None, 64, 64, 1)         0         \n",
      "                                                                 \n",
      " normalization (Normalizatio  (None, 64, 64, 1)        3         \n",
      " n)                                                              \n",
      "                                                                 \n",
      " conv2d (Conv2D)             (None, 62, 62, 32)        320       \n",
      "                                                                 \n",
      " max_pooling2d (MaxPooling2D  (None, 31, 31, 32)       0         \n",
      " )                                                               \n",
      "                                                                 \n",
      " conv2d_1 (Conv2D)           (None, 29, 29, 64)        18496     \n",
      "                                                                 \n",
      " max_pooling2d_1 (MaxPooling  (None, 14, 14, 64)       0         \n",
      " 2D)                                                             \n",
      "                                                                 \n",
      " conv2d_2 (Conv2D)           (None, 12, 12, 128)       73856     \n",
      "                                                                 \n",
      " max_pooling2d_2 (MaxPooling  (None, 6, 6, 128)        0         \n",
      " 2D)                                                             \n",
      "                                                                 \n",
      " dropout (Dropout)           (None, 6, 6, 128)         0         \n",
      "                                                                 \n",
      " flatten (Flatten)           (None, 4608)              0         \n",
      "                                                                 \n",
      " dense (Dense)               (None, 128)               589952    \n",
      "                                                                 \n",
      " dropout_1 (Dropout)         (None, 128)               0         \n",
      "                                                                 \n",
      " dense_1 (Dense)             (None, 8)                 1032      \n",
      "                                                                 \n",
      "=================================================================\n",
      "Total params: 683,659\n",
      "Trainable params: 683,656\n",
      "Non-trainable params: 3\n",
      "_________________________________________________________________\n"
     ]
    }
   ],
   "source": [
    "h5_model = tf.keras.models.load_model('simple-sr_v2.h5')\n",
    "h5_model.summary()"
   ]
  },
  {
   "cell_type": "markdown",
   "id": "292da8eb-5f5e-4394-834b-10f888e43785",
   "metadata": {},
   "source": [
    "### Test the HDF5 model"
   ]
  },
  {
   "cell_type": "code",
   "execution_count": 30,
   "id": "1c67cf42-6b45-4f75-aef7-d37024fe9451",
   "metadata": {},
   "outputs": [
    {
     "name": "stdout",
     "output_type": "stream",
     "text": [
      "Prediction: go\n"
     ]
    },
    {
     "data": {
      "text/plain": [
       "<tf.Tensor: shape=(1, 8), dtype=float32, numpy=\n",
       "array([[-0.30877993,  4.875862  , -3.8557582 , -0.36339486, -1.6876916 ,\n",
       "        -0.12743157, -1.1972897 , -1.9126966 ]], dtype=float32)>"
      ]
     },
     "execution_count": 30,
     "metadata": {},
     "output_type": "execute_result"
    }
   ],
   "source": [
    "input_data = get_spectrogram(waveform)\n",
    "input_data = input_data[tf.newaxis,...]\n",
    "result = h5_model(input_data, training=False)\n",
    "label = label_names[m['predictions'].numpy().argmax()]\n",
    "print('Prediction:', label)\n",
    "result"
   ]
  },
  {
   "cell_type": "markdown",
   "id": "e2118aaa-8ce4-4af9-ab40-1bc5ef51ff91",
   "metadata": {},
   "source": [
    "### Convert the model to tflite"
   ]
  },
  {
   "cell_type": "code",
   "execution_count": 31,
   "id": "04f6bac0-1dd4-4b67-85a4-44ff029e988e",
   "metadata": {},
   "outputs": [
    {
     "name": "stderr",
     "output_type": "stream",
     "text": [
      "2024-05-03 18:12:03.979228: I tensorflow/core/common_runtime/executor.cc:1197] [/device:CPU:0] (DEBUG INFO) Executor start aborting (this does not indicate an error and you can ignore this message): INVALID_ARGUMENT: You must feed a value for placeholder tensor 'inputs' with dtype float and shape [?,6,6,128]\n",
      "\t [[{{node inputs}}]]\n",
      "2024-05-03 18:12:03.995350: I tensorflow/core/common_runtime/executor.cc:1197] [/device:CPU:0] (DEBUG INFO) Executor start aborting (this does not indicate an error and you can ignore this message): INVALID_ARGUMENT: You must feed a value for placeholder tensor 'inputs' with dtype float and shape [?,128]\n",
      "\t [[{{node inputs}}]]\n",
      "2024-05-03 18:12:04.255376: I tensorflow/core/common_runtime/executor.cc:1197] [/device:CPU:0] (DEBUG INFO) Executor start aborting (this does not indicate an error and you can ignore this message): INVALID_ARGUMENT: You must feed a value for placeholder tensor 'inputs' with dtype float and shape [?,6,6,128]\n",
      "\t [[{{node inputs}}]]\n",
      "2024-05-03 18:12:04.288023: I tensorflow/core/common_runtime/executor.cc:1197] [/device:CPU:0] (DEBUG INFO) Executor start aborting (this does not indicate an error and you can ignore this message): INVALID_ARGUMENT: You must feed a value for placeholder tensor 'inputs' with dtype float and shape [?,128]\n",
      "\t [[{{node inputs}}]]\n",
      "WARNING:absl:Found untraced functions such as _jit_compiled_convolution_op, _jit_compiled_convolution_op, _jit_compiled_convolution_op, _update_step_xla while saving (showing 4 of 4). These functions will not be directly callable after loading.\n"
     ]
    },
    {
     "name": "stdout",
     "output_type": "stream",
     "text": [
      "INFO:tensorflow:Assets written to: /var/folders/nv/vkz95ryj1yn2h6v1flxn8n_80000gn/T/tmp3h1kia58/assets\n"
     ]
    },
    {
     "name": "stderr",
     "output_type": "stream",
     "text": [
      "INFO:tensorflow:Assets written to: /var/folders/nv/vkz95ryj1yn2h6v1flxn8n_80000gn/T/tmp3h1kia58/assets\n",
      "2024-05-03 18:12:06.592892: W tensorflow/compiler/mlir/lite/python/tf_tfl_flatbuffer_helpers.cc:364] Ignored output_format.\n",
      "2024-05-03 18:12:06.592909: W tensorflow/compiler/mlir/lite/python/tf_tfl_flatbuffer_helpers.cc:367] Ignored drop_control_dependency.\n",
      "2024-05-03 18:12:06.593231: I tensorflow/cc/saved_model/reader.cc:45] Reading SavedModel from: /var/folders/nv/vkz95ryj1yn2h6v1flxn8n_80000gn/T/tmp3h1kia58\n",
      "2024-05-03 18:12:06.595718: I tensorflow/cc/saved_model/reader.cc:89] Reading meta graph with tags { serve }\n",
      "2024-05-03 18:12:06.595728: I tensorflow/cc/saved_model/reader.cc:130] Reading SavedModel debug info (if present) from: /var/folders/nv/vkz95ryj1yn2h6v1flxn8n_80000gn/T/tmp3h1kia58\n",
      "2024-05-03 18:12:06.602818: I tensorflow/compiler/mlir/mlir_graph_optimization_pass.cc:353] MLIR V1 optimization pass is not enabled\n",
      "2024-05-03 18:12:06.604773: I tensorflow/cc/saved_model/loader.cc:231] Restoring SavedModel bundle.\n",
      "2024-05-03 18:12:06.669725: I tensorflow/cc/saved_model/loader.cc:215] Running initialization op on SavedModel bundle at path: /var/folders/nv/vkz95ryj1yn2h6v1flxn8n_80000gn/T/tmp3h1kia58\n",
      "2024-05-03 18:12:06.688856: I tensorflow/cc/saved_model/loader.cc:314] SavedModel load for tags { serve }; Status: success: OK. Took 95624 microseconds.\n",
      "2024-05-03 18:12:06.722149: I tensorflow/compiler/mlir/tensorflow/utils/dump_mlir_util.cc:269] disabling MLIR crash reproducer, set env var `MLIR_CRASH_REPRODUCER_DIRECTORY` to enable.\n"
     ]
    }
   ],
   "source": [
    "# Convert the model.\n",
    "converter = tf.lite.TFLiteConverter.from_keras_model(model)\n",
    "tflite_model = converter.convert()\n",
    "\n",
    "# Save the model.\n",
    "with open('simple-sr_v2.tflite', 'wb') as f:\n",
    "    f.write(tflite_model)"
   ]
  },
  {
   "cell_type": "code",
   "execution_count": 32,
   "id": "01cabfa6-10f3-4e6d-b67e-12b1b31bd783",
   "metadata": {},
   "outputs": [
    {
     "name": "stdout",
     "output_type": "stream",
     "text": [
      "[[-5.998719   -4.373076    0.47948083 -2.9117708  -9.729782   -7.9144173\n",
      "  -8.859806   13.435211  ]]\n",
      "Prediction: yes\n"
     ]
    },
    {
     "name": "stderr",
     "output_type": "stream",
     "text": [
      "INFO: Initialized TensorFlow Lite runtime.\n",
      "INFO: Applying 1 TensorFlow Lite delegate(s) lazily.\n",
      "INFO: Created TensorFlow Lite XNNPACK delegate for CPU.\n",
      "VERBOSE: Replacing 10 node(s) with delegate (TfLiteXNNPackDelegate) node, yielding 1 partitions for the whole graph.\n",
      "INFO: Successfully applied the default TensorFlow Lite delegate indexed at 0.\n",
      " *NOTE*: because a delegate has been applied, the precision of computations should be unchanged, but the exact output tensor values may have changed. If such output values are checked in your code, like in your tests etc., please consider increasing error tolerance for the check.\n"
     ]
    }
   ],
   "source": [
    "# Load TFLite model and allocate tensors.\n",
    "interpreter = tf.lite.Interpreter(model_path=\"simple-sr_v2.tflite\")\n",
    "interpreter.allocate_tensors()\n",
    "\n",
    "# Get input and output tensors.\n",
    "input_details = interpreter.get_input_details()\n",
    "output_details = interpreter.get_output_details()\n",
    "\n",
    "# Test model.\n",
    "wavfile = str(data_dir/'../yes.wav')\n",
    "x = tf.io.read_file(wavfile)\n",
    "x, sample_rate = tf.audio.decode_wav(x, desired_channels=1, desired_samples=16000)\n",
    "x = tf.squeeze(x, axis=-1)\n",
    "waveform = x\n",
    "input_data = get_spectrogram(x)\n",
    "input_data = input_data[tf.newaxis,...]\n",
    "\n",
    "interpreter.set_tensor(input_details[0]['index'], input_data)\n",
    "\n",
    "interpreter.invoke()\n",
    "\n",
    "# The function `get_tensor()` returns a copy of the tensor data.\n",
    "# Use `tensor()` in order to get a pointer to the tensor.\n",
    "output_data = interpreter.get_tensor(output_details[0]['index'])\n",
    "print(output_data)\n",
    "\n",
    "label = label_names[output_data.argmax()]\n",
    "print('Prediction:', label)"
   ]
  },
  {
   "cell_type": "code",
   "execution_count": null,
   "id": "73a6bca6-41f0-4ba5-bd89-749e113330d1",
   "metadata": {},
   "outputs": [],
   "source": []
  }
 ],
 "metadata": {
  "kernelspec": {
   "display_name": "Python 3 (ipykernel)",
   "language": "python",
   "name": "python3"
  },
  "language_info": {
   "codemirror_mode": {
    "name": "ipython",
    "version": 3
   },
   "file_extension": ".py",
   "mimetype": "text/x-python",
   "name": "python",
   "nbconvert_exporter": "python",
   "pygments_lexer": "ipython3",
   "version": "3.11.5"
  }
 },
 "nbformat": 4,
 "nbformat_minor": 5
}
