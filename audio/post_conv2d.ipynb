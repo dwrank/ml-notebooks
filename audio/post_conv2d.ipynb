{
 "cells": [
  {
   "cell_type": "markdown",
   "id": "ebb56f7f-c3aa-418f-a9b4-baec55e62399",
   "metadata": {},
   "source": [
    "# Implement Post Conv2D Layers"
   ]
  },
  {
   "cell_type": "code",
   "execution_count": 106,
   "id": "482dfd5c-2feb-453d-8c18-585647d3a44c",
   "metadata": {},
   "outputs": [],
   "source": [
    "import pathlib\n",
    "import numpy as np\n",
    "import math\n",
    "import h5py\n",
    "from datetime import datetime\n",
    "\n",
    "import tensorflow as tf \n",
    "from tensorflow.keras import layers"
   ]
  },
  {
   "cell_type": "code",
   "execution_count": 107,
   "id": "7f157cc9-7844-4269-b9a9-f6e722495118",
   "metadata": {},
   "outputs": [],
   "source": [
    "data_dir = pathlib.Path('data')"
   ]
  },
  {
   "cell_type": "code",
   "execution_count": 108,
   "id": "990b030c-3221-4c26-b3f8-4a4173c8b27b",
   "metadata": {},
   "outputs": [],
   "source": [
    "def get_waveform(wavfile):\n",
    "    x = tf.io.read_file(str(wavfile))\n",
    "    x, sample_rate = tf.audio.decode_wav(x, desired_channels=1, desired_samples=16000)\n",
    "    return tf.squeeze(x, axis=-1)\n",
    "\n",
    "\n",
    "def get_spectrogram(waveform):\n",
    "    # Convert the waveform to a spectrogram via a STFT\n",
    "    spectrogram = tf.signal.stft(waveform, frame_length=255, frame_step=128)\n",
    "\n",
    "    # Obtain the magnitude of the STFT\n",
    "    spectrogram = tf.abs(spectrogram)\n",
    "\n",
    "    # Add a 'channels' dimension, so that the spectrogram can be used as an\n",
    "    # image-like input data w/ convolution layers, which expect shape\n",
    "    # (batch_size, height, width, channels)\n",
    "    spectrogram = spectrogram[..., tf.newaxis]\n",
    "    return spectrogram\n",
    "\n",
    "def relu(x):\n",
    "    return x.clip(0.0)"
   ]
  },
  {
   "cell_type": "markdown",
   "id": "20ddf515-4345-4e97-a93b-53096467696f",
   "metadata": {},
   "source": [
    "## Get the input data"
   ]
  },
  {
   "cell_type": "code",
   "execution_count": 109,
   "id": "019e1e30-6f1c-44d0-bfca-7298e694b837",
   "metadata": {},
   "outputs": [
    {
     "data": {
      "text/plain": [
       "(TensorShape([1, 124, 129, 1]),\n",
       " <tf.Tensor: shape=(10, 1), dtype=float32, numpy=\n",
       " array([[0.00021577],\n",
       "        [0.00242205],\n",
       "        [0.00827248],\n",
       "        [0.01238501],\n",
       "        [0.01051275],\n",
       "        [0.01144113],\n",
       "        [0.01872324],\n",
       "        [0.02427843],\n",
       "        [0.04116756],\n",
       "        [0.09470174]], dtype=float32)>)"
      ]
     },
     "execution_count": 109,
     "metadata": {},
     "output_type": "execute_result"
    }
   ],
   "source": [
    "waveform = get_waveform(data_dir/'test/h_yes.wav')\n",
    "spec = get_spectrogram(waveform)\n",
    "input_data = spec[tf.newaxis,...]\n",
    "input_data.shape, input_data[0,0,:10,:]"
   ]
  },
  {
   "cell_type": "markdown",
   "id": "2e3368ac-88e6-4985-8d3c-730ed50d6182",
   "metadata": {},
   "source": [
    "## Load the model"
   ]
  },
  {
   "cell_type": "code",
   "execution_count": 110,
   "id": "12423f86-4a0d-434e-a592-92519ca3a2b4",
   "metadata": {},
   "outputs": [
    {
     "name": "stdout",
     "output_type": "stream",
     "text": [
      "Model: \"sequential\"\n",
      "_________________________________________________________________\n",
      " Layer (type)                Output Shape              Param #   \n",
      "=================================================================\n",
      " resizing (Resizing)         (None, 32, 32, 1)         0         \n",
      "                                                                 \n",
      " normalization (Normalizatio  (None, 32, 32, 1)        3         \n",
      " n)                                                              \n",
      "                                                                 \n",
      " conv2d (Conv2D)             (None, 30, 30, 32)        320       \n",
      "                                                                 \n",
      " conv2d_1 (Conv2D)           (None, 28, 28, 64)        18496     \n",
      "                                                                 \n",
      " max_pooling2d (MaxPooling2D  (None, 14, 14, 64)       0         \n",
      " )                                                               \n",
      "                                                                 \n",
      " dropout (Dropout)           (None, 14, 14, 64)        0         \n",
      "                                                                 \n",
      " flatten (Flatten)           (None, 12544)             0         \n",
      "                                                                 \n",
      " dense (Dense)               (None, 128)               1605760   \n",
      "                                                                 \n",
      " dropout_1 (Dropout)         (None, 128)               0         \n",
      "                                                                 \n",
      " dense_1 (Dense)             (None, 8)                 1032      \n",
      "                                                                 \n",
      "=================================================================\n",
      "Total params: 1,625,611\n",
      "Trainable params: 1,625,608\n",
      "Non-trainable params: 3\n",
      "_________________________________________________________________\n"
     ]
    }
   ],
   "source": [
    "h5_model = tf.keras.models.load_model('simple_audio.h5')\n",
    "h5_model.summary()"
   ]
  },
  {
   "cell_type": "markdown",
   "id": "0d70c55c-075c-43d9-bd09-18de0275eac8",
   "metadata": {},
   "source": [
    "## Run through the Conv2D layers"
   ]
  },
  {
   "cell_type": "code",
   "execution_count": 111,
   "id": "382bed6e-bc53-4d3f-8901-f2304e95db54",
   "metadata": {},
   "outputs": [],
   "source": [
    "# Downsample the input\n",
    "l1 = h5_model.layers[0]\n",
    "l1_out = l1(input_data)\n",
    "\n",
    "# Normalize\n",
    "l2 = h5_model.layers[1]\n",
    "l2_out = l2(l1_out.numpy())\n",
    "\n",
    "# Conv2D\n",
    "l3 = h5_model.layers[2]\n",
    "l3_out = l3(l2_out.numpy())\n",
    "\n",
    "# Conv2D 1\n",
    "l4 = h5_model.layers[3]\n",
    "l4_out = l4(l3_out.numpy())"
   ]
  },
  {
   "cell_type": "code",
   "execution_count": 112,
   "id": "482052f7-91d3-42a1-a092-a6f545325e1e",
   "metadata": {},
   "outputs": [
    {
     "name": "stdout",
     "output_type": "stream",
     "text": [
      "(1, 28, 28, 64)\n"
     ]
    },
    {
     "data": {
      "text/plain": [
       "<tf.Tensor: shape=(64,), dtype=float32, numpy=\n",
       "array([0.        , 0.        , 0.        , 0.        , 0.49769944,\n",
       "       0.        , 0.15165518, 0.        , 0.31784678, 0.42159253,\n",
       "       0.        , 0.3958354 , 0.        , 0.        , 0.09659711,\n",
       "       0.        , 0.        , 0.        , 0.        , 0.10127787,\n",
       "       0.2358518 , 0.        , 0.13675866, 0.15558577, 0.18190861,\n",
       "       0.        , 0.09301445, 0.08088657, 0.        , 0.        ,\n",
       "       0.        , 0.        , 0.        , 0.        , 0.        ,\n",
       "       0.        , 0.25600177, 0.        , 0.4070488 , 0.        ,\n",
       "       0.        , 0.        , 0.26512337, 0.        , 0.        ,\n",
       "       0.        , 0.15896116, 0.        , 0.19394155, 0.25666392,\n",
       "       0.        , 0.06679156, 0.        , 0.14209348, 0.27046356,\n",
       "       0.        , 0.        , 0.02366456, 0.13287333, 0.        ,\n",
       "       0.        , 0.        , 0.        , 0.00255454], dtype=float32)>"
      ]
     },
     "execution_count": 112,
     "metadata": {},
     "output_type": "execute_result"
    }
   ],
   "source": [
    "print(l4_out.shape)\n",
    "l4_out[0,0,0,:]"
   ]
  },
  {
   "cell_type": "markdown",
   "id": "c27fd00a-c66c-4d08-b242-a4ec987082b8",
   "metadata": {},
   "source": [
    "## MaxPooling2D"
   ]
  },
  {
   "cell_type": "markdown",
   "id": "c2157ed6-5723-44e4-8b7b-5e59fd9b5131",
   "metadata": {},
   "source": [
    "### TF model output"
   ]
  },
  {
   "cell_type": "code",
   "execution_count": 113,
   "id": "723a1da3-5411-45c7-85ef-b1392457e9e8",
   "metadata": {},
   "outputs": [],
   "source": [
    "# MaxPooling2D\n",
    "l5 = h5_model.layers[4]\n",
    "l5_out = l5(l4_out.numpy())"
   ]
  },
  {
   "cell_type": "code",
   "execution_count": 114,
   "id": "97af21e5-e533-4e04-ba76-9d52b322eb75",
   "metadata": {},
   "outputs": [
    {
     "name": "stdout",
     "output_type": "stream",
     "text": [
      "(1, 14, 14, 64)\n"
     ]
    },
    {
     "data": {
      "text/plain": [
       "<tf.Tensor: shape=(64,), dtype=float32, numpy=\n",
       "array([0.19207872, 0.        , 0.        , 0.        , 0.49769944,\n",
       "       0.39563945, 0.15165518, 0.21508202, 0.31784678, 0.42159253,\n",
       "       0.        , 0.3958354 , 0.        , 0.04460957, 0.3934646 ,\n",
       "       0.03404821, 0.        , 0.0322025 , 0.00269348, 0.12552783,\n",
       "       0.2566957 , 0.        , 0.20957533, 0.30595195, 0.25312927,\n",
       "       0.        , 0.09301445, 0.08088657, 0.        , 0.05764907,\n",
       "       0.05090094, 0.        , 0.        , 0.        , 0.        ,\n",
       "       0.        , 0.25771794, 0.28490397, 0.50668806, 0.        ,\n",
       "       0.        , 0.        , 0.26512337, 0.05124837, 0.01706564,\n",
       "       0.        , 0.15896116, 0.        , 0.33742458, 0.33704227,\n",
       "       0.        , 0.37610823, 0.18524006, 0.14209348, 0.36792484,\n",
       "       0.        , 0.        , 0.07485493, 0.13287333, 0.        ,\n",
       "       0.        , 0.27662134, 0.        , 0.00255454], dtype=float32)>"
      ]
     },
     "execution_count": 114,
     "metadata": {},
     "output_type": "execute_result"
    }
   ],
   "source": [
    "print(l5_out.shape)\n",
    "l5_out[0,0,0,:]"
   ]
  },
  {
   "cell_type": "markdown",
   "id": "c75ba851-72e3-4982-a317-c5c0ffeaf15f",
   "metadata": {},
   "source": [
    "### Implement MaxPooling2D"
   ]
  },
  {
   "cell_type": "code",
   "execution_count": 115,
   "id": "c104437c-2546-42bf-9aa3-f6758aae3355",
   "metadata": {},
   "outputs": [],
   "source": [
    "def max_pooling_2d(input):\n",
    "    groups, rows, cols, channels = input.shape\n",
    "    out_rows = rows // 2\n",
    "    out_cols = cols // 2\n",
    "    output = np.zeros([groups, out_rows, out_cols, channels])  # assumes the previous layer's activation is relu\n",
    "    \n",
    "    for g in range(groups):\n",
    "        for out_r in range(out_rows):\n",
    "            in_r = out_r * 2\n",
    "            for out_c in range(out_cols):\n",
    "                in_c = out_c * 2\n",
    "                for ch in range(channels):\n",
    "                    for r in range(2):\n",
    "                        for c in range(2):\n",
    "                            in_val = input[g, in_r + r, in_c + c, ch]\n",
    "                            if in_val > output[g,out_r,out_c,ch]:\n",
    "                                output[g,out_r,out_c,ch] = in_val\n",
    "\n",
    "    return output\n",
    "\n",
    "# verify values\n",
    "def verify_arrays(a1, a2, tolerance=1e-5):\n",
    "    shapes_equal = a1.shape == a2.shape\n",
    "    print('Shapes match: %s' % str(shapes_equal))\n",
    "    if not shapes_equal:\n",
    "        return\n",
    "\n",
    "    print('Values match: %s' % str(np.all(a1 - a2 < tolerance)))"
   ]
  },
  {
   "cell_type": "code",
   "execution_count": 116,
   "id": "c47f9865-b3f3-4103-ba87-9884ae24f189",
   "metadata": {},
   "outputs": [
    {
     "data": {
      "text/plain": [
       "(array([0.19207872, 0.        , 0.        , 0.        , 0.49769944,\n",
       "        0.39563945, 0.15165518, 0.21508202, 0.31784678, 0.42159253,\n",
       "        0.        , 0.3958354 , 0.        , 0.04460957, 0.3934646 ,\n",
       "        0.03404821, 0.        , 0.0322025 , 0.00269348, 0.12552783,\n",
       "        0.25669569, 0.        , 0.20957533, 0.30595195, 0.25312927,\n",
       "        0.        , 0.09301445, 0.08088657, 0.        , 0.05764907,\n",
       "        0.05090094, 0.        , 0.        , 0.        , 0.        ,\n",
       "        0.        , 0.25771794, 0.28490397, 0.50668806, 0.        ,\n",
       "        0.        , 0.        , 0.26512337, 0.05124837, 0.01706564,\n",
       "        0.        , 0.15896116, 0.        , 0.33742458, 0.33704227,\n",
       "        0.        , 0.37610823, 0.18524006, 0.14209348, 0.36792484,\n",
       "        0.        , 0.        , 0.07485493, 0.13287333, 0.        ,\n",
       "        0.        , 0.27662134, 0.        , 0.00255454]),\n",
       " <tf.Tensor: shape=(64,), dtype=float32, numpy=\n",
       " array([0.19207872, 0.        , 0.        , 0.        , 0.49769944,\n",
       "        0.39563945, 0.15165518, 0.21508202, 0.31784678, 0.42159253,\n",
       "        0.        , 0.3958354 , 0.        , 0.04460957, 0.3934646 ,\n",
       "        0.03404821, 0.        , 0.0322025 , 0.00269348, 0.12552783,\n",
       "        0.2566957 , 0.        , 0.20957533, 0.30595195, 0.25312927,\n",
       "        0.        , 0.09301445, 0.08088657, 0.        , 0.05764907,\n",
       "        0.05090094, 0.        , 0.        , 0.        , 0.        ,\n",
       "        0.        , 0.25771794, 0.28490397, 0.50668806, 0.        ,\n",
       "        0.        , 0.        , 0.26512337, 0.05124837, 0.01706564,\n",
       "        0.        , 0.15896116, 0.        , 0.33742458, 0.33704227,\n",
       "        0.        , 0.37610823, 0.18524006, 0.14209348, 0.36792484,\n",
       "        0.        , 0.        , 0.07485493, 0.13287333, 0.        ,\n",
       "        0.        , 0.27662134, 0.        , 0.00255454], dtype=float32)>)"
      ]
     },
     "execution_count": 116,
     "metadata": {},
     "output_type": "execute_result"
    }
   ],
   "source": [
    "mp_out = max_pooling_2d(l4_out.numpy())\n",
    "mp_out[0,0,0,:],l5_out[0,0,0,:]"
   ]
  },
  {
   "cell_type": "code",
   "execution_count": 117,
   "id": "5cd173d4-6f16-4533-90d6-f1812738053d",
   "metadata": {},
   "outputs": [
    {
     "name": "stdout",
     "output_type": "stream",
     "text": [
      "Shapes match: True\n",
      "Values match: True\n"
     ]
    }
   ],
   "source": [
    "verify_arrays(mp_out, l5_out)"
   ]
  },
  {
   "cell_type": "markdown",
   "id": "14b1a8bf-9761-4183-8bb7-9321a4b0a071",
   "metadata": {},
   "source": [
    "## Dropout 0.25\n",
    "### Not applied, only used for training"
   ]
  },
  {
   "cell_type": "code",
   "execution_count": 118,
   "id": "0799927b-f4c1-4c41-8d17-4a971d833186",
   "metadata": {},
   "outputs": [
    {
     "data": {
      "text/plain": [
       "<tf.Tensor: shape=(64,), dtype=float32, numpy=\n",
       "array([0.19207872, 0.        , 0.        , 0.        , 0.49769944,\n",
       "       0.39563945, 0.15165518, 0.21508202, 0.31784678, 0.42159253,\n",
       "       0.        , 0.3958354 , 0.        , 0.04460957, 0.3934646 ,\n",
       "       0.03404821, 0.        , 0.0322025 , 0.00269348, 0.12552783,\n",
       "       0.2566957 , 0.        , 0.20957533, 0.30595195, 0.25312927,\n",
       "       0.        , 0.09301445, 0.08088657, 0.        , 0.05764907,\n",
       "       0.05090094, 0.        , 0.        , 0.        , 0.        ,\n",
       "       0.        , 0.25771794, 0.28490397, 0.50668806, 0.        ,\n",
       "       0.        , 0.        , 0.26512337, 0.05124837, 0.01706564,\n",
       "       0.        , 0.15896116, 0.        , 0.33742458, 0.33704227,\n",
       "       0.        , 0.37610823, 0.18524006, 0.14209348, 0.36792484,\n",
       "       0.        , 0.        , 0.07485493, 0.13287333, 0.        ,\n",
       "       0.        , 0.27662134, 0.        , 0.00255454], dtype=float32)>"
      ]
     },
     "execution_count": 118,
     "metadata": {},
     "output_type": "execute_result"
    }
   ],
   "source": [
    "# MaxPooling2D\n",
    "l6 = h5_model.layers[5]\n",
    "l6_out = l6(l5_out.numpy())\n",
    "l6_out[0,0,0,:]"
   ]
  },
  {
   "cell_type": "markdown",
   "id": "06bd36cc-8ca6-4b6f-9f17-a8c7c94e8471",
   "metadata": {},
   "source": [
    "## Flatten"
   ]
  },
  {
   "cell_type": "code",
   "execution_count": 119,
   "id": "c7ab7d6b-6651-4ff5-ac11-d86c8a55e1b4",
   "metadata": {},
   "outputs": [
    {
     "name": "stdout",
     "output_type": "stream",
     "text": [
      "(1, 12544)\n"
     ]
    },
    {
     "data": {
      "text/plain": [
       "array([0.19207872, 0.        , 0.        , 0.        , 0.49769944,\n",
       "       0.39563945, 0.15165518, 0.21508202, 0.31784678, 0.42159253,\n",
       "       0.        , 0.3958354 , 0.        , 0.04460957, 0.3934646 ,\n",
       "       0.03404821, 0.        , 0.0322025 , 0.00269348, 0.12552783,\n",
       "       0.2566957 , 0.        , 0.20957533, 0.30595195, 0.25312927,\n",
       "       0.        , 0.09301445, 0.08088657, 0.        , 0.05764907,\n",
       "       0.05090094, 0.        ], dtype=float32)"
      ]
     },
     "execution_count": 119,
     "metadata": {},
     "output_type": "execute_result"
    }
   ],
   "source": [
    "l7 = h5_model.layers[6]\n",
    "l7_out = l7(l6_out.numpy())\n",
    "print(l7_out.shape)\n",
    "l7_out.numpy()[0,:32]"
   ]
  },
  {
   "cell_type": "markdown",
   "id": "935f6702-9dd6-47f3-a5db-d594c1ad46aa",
   "metadata": {},
   "source": [
    "## Dense 128"
   ]
  },
  {
   "cell_type": "markdown",
   "id": "08ea1fe4-b721-4ddf-99f2-05f4a8267f98",
   "metadata": {},
   "source": [
    "### TF model output"
   ]
  },
  {
   "cell_type": "code",
   "execution_count": 120,
   "id": "f5c66e94-3938-4d54-9ce6-4749ecc9df26",
   "metadata": {},
   "outputs": [
    {
     "name": "stdout",
     "output_type": "stream",
     "text": [
      "(1, 128)\n"
     ]
    },
    {
     "data": {
      "text/plain": [
       "array([0.       , 0.       , 0.       , 0.       , 2.490368 , 0.       ,\n",
       "       0.       , 0.       , 2.080639 , 0.       , 0.       , 0.       ,\n",
       "       2.874687 , 1.19669  , 0.       , 0.       , 2.545947 , 0.       ,\n",
       "       0.       , 1.5560516, 0.       , 0.       , 0.9972665, 0.       ,\n",
       "       0.       , 0.4105076, 0.       , 0.       , 0.3358364, 2.905886 ,\n",
       "       0.       , 0.       ], dtype=float32)"
      ]
     },
     "execution_count": 120,
     "metadata": {},
     "output_type": "execute_result"
    }
   ],
   "source": [
    "# dense 128\n",
    "l8 = h5_model.layers[7]\n",
    "l8_out = l8(l7_out.numpy())\n",
    "print(l8_out.shape)\n",
    "l8_out.numpy()[0,:32]"
   ]
  },
  {
   "cell_type": "markdown",
   "id": "4121c68f-0147-4ffe-a8a4-da25dbdf026f",
   "metadata": {},
   "source": [
    "### Implement Dense"
   ]
  },
  {
   "cell_type": "code",
   "execution_count": 142,
   "id": "f49c1758-9b25-438e-9ca0-6bc92e3bf3ec",
   "metadata": {},
   "outputs": [],
   "source": [
    "def dense(input, weights, biases, activation=None):\n",
    "    n_inputs = input.shape[1]\n",
    "    n_outputs = weights.shape[1]\n",
    "    \n",
    "    output = np.zeros([1, n_outputs])\n",
    "\n",
    "    for out_i in range(n_outputs):\n",
    "        sum = np.sum(input[0,:] * weights[:,out_i]) + biases[out_i]\n",
    "        if activation:\n",
    "            output[0,out_i] = activation(sum)\n",
    "        else:\n",
    "            output[0,out_i] = sum\n",
    "    \n",
    "    return output"
   ]
  },
  {
   "cell_type": "code",
   "execution_count": 143,
   "id": "0bed486c-a207-4f55-b071-e39eec0f6913",
   "metadata": {},
   "outputs": [
    {
     "data": {
      "text/plain": [
       "array([0.        , 0.        , 0.        , 0.        , 2.49036813,\n",
       "       0.        , 0.        , 0.        , 2.08063984, 0.        ,\n",
       "       0.        , 0.        , 2.87468958, 1.19668984, 0.        ,\n",
       "       0.        , 2.54594612, 0.        , 0.        , 1.55605149,\n",
       "       0.        , 0.        , 0.99726647, 0.        , 0.        ,\n",
       "       0.41050842, 0.        , 0.        , 0.33583611, 2.90588427,\n",
       "       0.        , 0.        ])"
      ]
     },
     "execution_count": 143,
     "metadata": {},
     "output_type": "execute_result"
    }
   ],
   "source": [
    "d_out = dense(l7_out.numpy(), l8.weights[0].numpy(), l8.weights[1].numpy(), activation=relu)\n",
    "d_out[0,:32]"
   ]
  },
  {
   "cell_type": "code",
   "execution_count": 144,
   "id": "1ec7bd08-16c5-4e82-8a2b-d506711fe961",
   "metadata": {},
   "outputs": [
    {
     "name": "stdout",
     "output_type": "stream",
     "text": [
      "Shapes match: True\n",
      "Values match: True\n"
     ]
    }
   ],
   "source": [
    "verify_arrays(d_out, l8_out.numpy())"
   ]
  },
  {
   "cell_type": "markdown",
   "id": "f9843570-6113-43e6-baea-e2f81a648d65",
   "metadata": {},
   "source": [
    "## Dense 8"
   ]
  },
  {
   "cell_type": "markdown",
   "id": "338112db-dada-4b55-a8b0-70fe9657326a",
   "metadata": {},
   "source": [
    "### TF model output"
   ]
  },
  {
   "cell_type": "code",
   "execution_count": 50,
   "id": "6d476900-4247-4288-beed-9761af0b9867",
   "metadata": {},
   "outputs": [
    {
     "name": "stdout",
     "output_type": "stream",
     "text": [
      "(1, 128)\n"
     ]
    },
    {
     "data": {
      "text/plain": [
       "array([0.       , 0.       , 0.       , 0.       , 2.490368 , 0.       ,\n",
       "       0.       , 0.       , 2.080639 , 0.       , 0.       , 0.       ,\n",
       "       2.874687 , 1.19669  , 0.       , 0.       , 2.545947 , 0.       ,\n",
       "       0.       , 1.5560516, 0.       , 0.       , 0.9972665, 0.       ,\n",
       "       0.       , 0.4105076, 0.       , 0.       , 0.3358364, 2.905886 ,\n",
       "       0.       , 0.       ], dtype=float32)"
      ]
     },
     "execution_count": 50,
     "metadata": {},
     "output_type": "execute_result"
    }
   ],
   "source": [
    "# dropout 0.5\n",
    "# Not applied, only used for training\n",
    "l9 = h5_model.layers[8]\n",
    "l9_out = l9(l8_out.numpy())\n",
    "print(l9_out.shape)\n",
    "l9_out.numpy()[0,:32]"
   ]
  },
  {
   "cell_type": "code",
   "execution_count": 51,
   "id": "4672b559-90d0-48f0-aa4d-8f78a8cd6e88",
   "metadata": {},
   "outputs": [
    {
     "name": "stdout",
     "output_type": "stream",
     "text": [
      "(1, 8)\n"
     ]
    },
    {
     "data": {
      "text/plain": [
       "array([-1.4015254 , -0.47578493, -0.17762837, -1.3689332 ,  0.02886982,\n",
       "       -4.9320793 , -4.903058  ,  4.8657074 ], dtype=float32)"
      ]
     },
     "execution_count": 51,
     "metadata": {},
     "output_type": "execute_result"
    }
   ],
   "source": [
    "# dense 8\n",
    "l10 = h5_model.layers[9]\n",
    "l10_out = l10(l9_out.numpy())\n",
    "print(l10_out.shape)\n",
    "l10_out.numpy()[0,:32]"
   ]
  },
  {
   "cell_type": "markdown",
   "id": "22288db5-9060-43bc-b53e-284a5b159dc8",
   "metadata": {},
   "source": [
    "### Apply the implemented dense"
   ]
  },
  {
   "cell_type": "code",
   "execution_count": 145,
   "id": "023a55aa-13b5-4083-a8a3-d06b3aea008b",
   "metadata": {},
   "outputs": [
    {
     "data": {
      "text/plain": [
       "array([-1.40152538, -0.47578511, -0.17762849, -1.3689332 ,  0.02887006,\n",
       "       -4.93207932, -4.90305758,  4.86570692])"
      ]
     },
     "execution_count": 145,
     "metadata": {},
     "output_type": "execute_result"
    }
   ],
   "source": [
    "l_out = dense(l9_out.numpy(), l10.weights[0].numpy(), l10.weights[1].numpy())\n",
    "l_out[0,:32]"
   ]
  },
  {
   "cell_type": "code",
   "execution_count": 146,
   "id": "0395ed41-1acd-4244-be43-9b741583fc71",
   "metadata": {},
   "outputs": [
    {
     "name": "stdout",
     "output_type": "stream",
     "text": [
      "Shapes match: True\n",
      "Values match: True\n"
     ]
    }
   ],
   "source": [
    "verify_arrays(l_out, l10_out.numpy())"
   ]
  },
  {
   "cell_type": "markdown",
   "id": "69a03916-3c9c-4adc-926b-d039924f219e",
   "metadata": {},
   "source": [
    "## Get the output label"
   ]
  },
  {
   "cell_type": "code",
   "execution_count": 52,
   "id": "14ce83eb-40e7-4231-b2fe-4525f970c8c3",
   "metadata": {},
   "outputs": [
    {
     "data": {
      "text/plain": [
       "['down', 'go', 'left', 'no', 'right', 'stop', 'up', 'yes']"
      ]
     },
     "execution_count": 52,
     "metadata": {},
     "output_type": "execute_result"
    }
   ],
   "source": [
    "label_names = ['down', 'go', 'left', 'no', 'right', 'stop', 'up', 'yes']\n",
    "label_names"
   ]
  },
  {
   "cell_type": "code",
   "execution_count": 55,
   "id": "da2828ea-f68b-4187-b126-ac0c6dc5b9c2",
   "metadata": {},
   "outputs": [
    {
     "data": {
      "text/plain": [
       "'yes'"
      ]
     },
     "execution_count": 55,
     "metadata": {},
     "output_type": "execute_result"
    }
   ],
   "source": [
    "label_names[l10_out.numpy().argmax()]"
   ]
  },
  {
   "cell_type": "code",
   "execution_count": null,
   "id": "28877696-2f1e-43df-b278-decb34a8b6c5",
   "metadata": {},
   "outputs": [],
   "source": []
  }
 ],
 "metadata": {
  "kernelspec": {
   "display_name": "Python 3 (ipykernel)",
   "language": "python",
   "name": "python3"
  },
  "language_info": {
   "codemirror_mode": {
    "name": "ipython",
    "version": 3
   },
   "file_extension": ".py",
   "mimetype": "text/x-python",
   "name": "python",
   "nbconvert_exporter": "python",
   "pygments_lexer": "ipython3",
   "version": "3.11.5"
  }
 },
 "nbformat": 4,
 "nbformat_minor": 5
}
