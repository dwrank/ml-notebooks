{
 "cells": [
  {
   "cell_type": "markdown",
   "id": "6bb34585-db8f-4d99-b93b-64af8b9fcd94",
   "metadata": {},
   "source": [
    "# Hanzi OCR\n",
    "### Modeled from EasyOCR and TorchfreeEasyOCR"
   ]
  },
  {
   "cell_type": "code",
   "execution_count": 129,
   "id": "e7f42ec1-b937-45c4-8c1d-e37d83fcee59",
   "metadata": {
    "tags": []
   },
   "outputs": [],
   "source": [
    "import os\n",
    "import numpy as np\n",
    "import cv2\n",
    "import math\n",
    "import onnxruntime\n",
    "import matplotlib.pyplot as plt"
   ]
  },
  {
   "cell_type": "markdown",
   "id": "81cb3fb2-2e17-48eb-a684-0346e3ed853e",
   "metadata": {
    "tags": []
   },
   "source": [
    "### Normalize from 0..255 to -1.0..1.0"
   ]
  },
  {
   "cell_type": "code",
   "execution_count": 130,
   "id": "7b32d991-cd4f-49a0-a7c1-fc0b192d26e7",
   "metadata": {
    "tags": []
   },
   "outputs": [],
   "source": [
    "class NormalizePAD:\n",
    "    def __init__(self, max_size, PAD_type='right'):\n",
    "        self.max_size = max_size  # (C, H, W)\n",
    "        self.max_width_half = math.floor(max_size[2] / 2)\n",
    "        self.PAD_type = PAD_type\n",
    "\n",
    "    def __call__(self, img):\n",
    "        img = np.array(img, dtype=np.float32) / 255.0  # Normalize\n",
    "        img = (img - 0.5) / 0.5  # Scale between -1 and 1\n",
    "\n",
    "        if img.ndim == 2:  # If grayscale (H, W), add channel dim\n",
    "            img = np.expand_dims(img, axis=0)  # Now shape is (1, H, W)\n",
    "\n",
    "        c, h, w = self.max_size\n",
    "        Pad_img = np.zeros((c, h, w), dtype=np.float32)  # Zero-filled array of max_size\n",
    "\n",
    "        # Ensure input fits in the padding space\n",
    "        img_c, img_h, img_w = img.shape\n",
    "        Pad_img[:, :, :img_w] = img  # Right pad\n",
    "\n",
    "        if img_w < w:  # Add border padding\n",
    "            Pad_img[:, :, img_w:] = np.expand_dims(img[:, :, img_w - 1], axis=2).repeat(w - img_w, axis=2)\n",
    "\n",
    "        return Pad_img"
   ]
  },
  {
   "cell_type": "markdown",
   "id": "86e65212-cceb-4388-a34a-ad961078445d",
   "metadata": {
    "tags": []
   },
   "source": [
    "### Plot image"
   ]
  },
  {
   "cell_type": "code",
   "execution_count": 131,
   "id": "c3705c1b-d10f-469e-a508-b673ce9a0c17",
   "metadata": {
    "tags": []
   },
   "outputs": [],
   "source": [
    "def plt_img(im):\n",
    "    plt.imshow(im, cmap='gray')\n",
    "    plt.title('Input')\n",
    "    plt.show()"
   ]
  },
  {
   "cell_type": "markdown",
   "id": "332033e6-8ccf-4380-91a1-7358d5af9129",
   "metadata": {},
   "source": [
    "### Files"
   ]
  },
  {
   "cell_type": "code",
   "execution_count": 140,
   "id": "d2f4cba6-5943-413d-9764-9121143a5cd1",
   "metadata": {
    "tags": []
   },
   "outputs": [],
   "source": [
    "img_file = os.path.expanduser('~/dev/mandarin/images/c1.png')\n",
    "recognizer_file = os.path.expanduser('~/.TorchfreeOCR/model/zh_tra_g1_rec.onnx')\n",
    "fixed_recognizer_file = os.path.expanduser('~/.TorchfreeOCR/model/zh_tra_g1_rec.fixed.onnx')"
   ]
  },
  {
   "cell_type": "markdown",
   "id": "40ccafe5-579d-47af-9117-365eaa4c5b83",
   "metadata": {},
   "source": [
    "### Read in the image"
   ]
  },
  {
   "cell_type": "code",
   "execution_count": 133,
   "id": "f336b80c-ee8c-4e22-b071-1adbda9ed823",
   "metadata": {
    "tags": []
   },
   "outputs": [
    {
     "data": {
      "image/png": "[encoded data removed]",
      "text/plain": [
       "<Figure size 640x480 with 1 Axes>"
      ]
     },
     "metadata": {},
     "output_type": "display_data"
    },
    {
     "data": {
      "text/plain": [
       "(107, 109)"
      ]
     },
     "execution_count": 133,
     "metadata": {},
     "output_type": "execute_result"
    }
   ],
   "source": [
    "img0 = cv2.imread(img_file, cv2.IMREAD_GRAYSCALE)\n",
    "plt_img(img0)\n",
    "height, width = img0.shape\n",
    "height, width"
   ]
  },
  {
   "cell_type": "markdown",
   "id": "657cdba0-fc1f-4f27-be25-ec800a3e959f",
   "metadata": {},
   "source": [
    "### Initial scale to 64"
   ]
  },
  {
   "cell_type": "code",
   "execution_count": 134,
   "id": "9be627ab-f43f-4248-8e1e-71e875daa1d8",
   "metadata": {
    "tags": []
   },
   "outputs": [
    {
     "data": {
      "image/png": "[encoded data removed]",
      "text/plain": [
       "<Figure size 640x480 with 1 Axes>"
      ]
     },
     "metadata": {},
     "output_type": "display_data"
    },
    {
     "name": "stdout",
     "output_type": "stream",
     "text": [
      "(64, 65), 1.0186915887850467\n"
     ]
    }
   ],
   "source": [
    "model_height = 64\n",
    "ratio = width / height\n",
    "if ratio < 1.0:\n",
    "    ratio = 1. / ratio\n",
    "    # resize takes (cols, rows)\n",
    "    img = cv2.resize(img0, (model_height, int(model_height*ratio)),\n",
    "                        interpolation=cv2.INTER_LANCZOS4)\n",
    "else:\n",
    "    # resize takes (cols, rows)\n",
    "    img = cv2.resize(img0, (int(model_height*ratio), model_height),\n",
    "                        interpolation=cv2.INTER_LANCZOS4)\n",
    "plt_img(img)\n",
    "print(f'{img.shape}, {ratio}')"
   ]
  },
  {
   "cell_type": "markdown",
   "id": "73e3d783-e016-44fd-a5e2-9e0aa8f635f5",
   "metadata": {
    "tags": []
   },
   "source": [
    "### Final scale to height: 64, width: 128"
   ]
  },
  {
   "cell_type": "code",
   "execution_count": 135,
   "id": "9d4c3dd2-00b8-479f-99cd-3c466ed0638b",
   "metadata": {
    "tags": []
   },
   "outputs": [
    {
     "data": {
      "image/png": "[encoded data removed]",
      "text/plain": [
       "<Figure size 640x480 with 1 Axes>"
      ]
     },
     "metadata": {},
     "output_type": "display_data"
    },
    {
     "name": "stdout",
     "output_type": "stream",
     "text": [
      "(64, 128), 2\n"
     ]
    }
   ],
   "source": [
    "ratio = math.ceil(ratio)\n",
    "imgH = model_height\n",
    "imgW = model_height * ratio\n",
    "\n",
    "# resize takes (cols, rows)\n",
    "img = cv2.resize(img0, (int(model_height*ratio), model_height),\n",
    "                 interpolation=cv2.INTER_CUBIC)\n",
    "plt_img(img)\n",
    "print(f'{img.shape}, {ratio}')"
   ]
  },
  {
   "cell_type": "markdown",
   "id": "ff85d96b-e65c-4103-a56e-e050c3313b17",
   "metadata": {},
   "source": [
    "### Transform data values from 0..255 to -1.0..1.0"
   ]
  },
  {
   "cell_type": "code",
   "execution_count": 136,
   "id": "154a72a6-7e99-459e-8f09-169e6b0a6605",
   "metadata": {
    "tags": []
   },
   "outputs": [
    {
     "data": {
      "text/plain": [
       "((1, 64, 128), dtype('float32'))"
      ]
     },
     "execution_count": 136,
     "metadata": {},
     "output_type": "execute_result"
    }
   ],
   "source": [
    "transform = NormalizePAD((1, imgH, imgW))\n",
    "input_data = transform(img)\n",
    "input_data.shape, input_data.dtype"
   ]
  },
  {
   "cell_type": "markdown",
   "id": "99cc9897-bf2a-41a2-bbe3-58156786f6ba",
   "metadata": {
    "tags": []
   },
   "source": [
    "### Add a dimension for the model input"
   ]
  },
  {
   "cell_type": "code",
   "execution_count": 137,
   "id": "88c0a9ed-d097-4f5f-aa9d-7b702002f7ab",
   "metadata": {
    "tags": []
   },
   "outputs": [
    {
     "data": {
      "text/plain": [
       "((1, 1, 64, 128), dtype('float32'))"
      ]
     },
     "execution_count": 137,
     "metadata": {},
     "output_type": "execute_result"
    }
   ],
   "source": [
    "input_data = np.expand_dims(input_data, axis=0)\n",
    "input_data.shape, input_data.dtype"
   ]
  },
  {
   "cell_type": "markdown",
   "id": "c72fa44b-b788-4900-87f6-40b387c2280f",
   "metadata": {},
   "source": [
    "### Run the dynamic model with onnxruntime"
   ]
  },
  {
   "cell_type": "code",
   "execution_count": 138,
   "id": "f702e59f-56e9-46bf-8a71-3d35a105088d",
   "metadata": {
    "tags": []
   },
   "outputs": [
    {
     "data": {
      "text/plain": [
       "[array([[[80.44098 , 60.83172 , 63.525032, ..., 61.943897, 61.063457,\n",
       "          60.95753 ],\n",
       "         [32.790264, 32.697216, 37.970303, ..., 34.41221 , 33.676098,\n",
       "          34.355595],\n",
       "         [69.02749 , 53.66711 , 58.422363, ..., 56.248894, 54.5758  ,\n",
       "          55.42953 ],\n",
       "         ...,\n",
       "         [35.17361 , 15.170984, 16.157652, ..., 13.964742, 13.614969,\n",
       "          12.129305],\n",
       "         [47.037323, 25.743423, 25.025434, ..., 25.935553, 25.98571 ,\n",
       "          24.56919 ],\n",
       "         [53.308437, 33.852543, 33.71984 , ..., 35.24823 , 34.471485,\n",
       "          33.627705]]], dtype=float32)]"
      ]
     },
     "execution_count": 138,
     "metadata": {},
     "output_type": "execute_result"
    }
   ],
   "source": [
    "on = onnxruntime.InferenceSession(recognizer_file,\n",
    "                                  providers=['CPUExecutionProvider'])\n",
    "inputs = {on.get_inputs()[0].name: input_data}\n",
    "outputs = on.run(None, inputs)\n",
    "outputs"
   ]
  },
  {
   "cell_type": "markdown",
   "id": "9a4c5612-9256-4bff-9ba9-74ad1a5758b4",
   "metadata": {},
   "source": [
    "### Run the fixed model with onnxruntime"
   ]
  },
  {
   "cell_type": "code",
   "execution_count": 149,
   "id": "85af5fcf-7b88-4ed9-bded-e6abdc65990d",
   "metadata": {
    "tags": []
   },
   "outputs": [
    {
     "data": {
      "text/plain": [
       "[array([[[80.44098 , 60.83172 , 63.525032, ..., 61.943897, 61.063457,\n",
       "          60.95753 ],\n",
       "         [32.790264, 32.697216, 37.970303, ..., 34.41221 , 33.676098,\n",
       "          34.355595],\n",
       "         [69.02749 , 53.66711 , 58.422363, ..., 56.248894, 54.5758  ,\n",
       "          55.42953 ],\n",
       "         ...,\n",
       "         [35.17361 , 15.170984, 16.157652, ..., 13.964742, 13.614969,\n",
       "          12.129305],\n",
       "         [47.037323, 25.743423, 25.025434, ..., 25.935553, 25.98571 ,\n",
       "          24.56919 ],\n",
       "         [53.308437, 33.852543, 33.71984 , ..., 35.24823 , 34.471485,\n",
       "          33.627705]]], dtype=float32)]"
      ]
     },
     "execution_count": 149,
     "metadata": {},
     "output_type": "execute_result"
    }
   ],
   "source": [
    "on = onnxruntime.InferenceSession(fixed_recognizer_file,\n",
    "                                  providers=['CPUExecutionProvider'])\n",
    "inputs = {on.get_inputs()[0].name: input_data}\n",
    "outputs = on.run(None, inputs)\n",
    "outputs"
   ]
  },
  {
   "cell_type": "markdown",
   "id": "86c73daa-df16-4178-bdfe-f99f13795fa2",
   "metadata": {},
   "source": [
    "### Run the fixed model with opencv"
   ]
  },
  {
   "cell_type": "code",
   "execution_count": 147,
   "id": "25e73432-c30f-4371-bf49-20c6faf7f62e",
   "metadata": {
    "tags": []
   },
   "outputs": [
    {
     "name": "stdout",
     "output_type": "stream",
     "text": [
      "OpenCV model was successfully read.\n"
     ]
    }
   ],
   "source": [
    "cv_net = cv2.dnn.readNetFromONNX(fixed_recognizer_file)\n",
    "print('OpenCV model was successfully read.')#. Layer IDs: \\n', opencv_net.getLayerNames())"
   ]
  },
  {
   "cell_type": "code",
   "execution_count": 148,
   "id": "19f37f54-ed72-45b4-8746-ac5e909e1c28",
   "metadata": {
    "tags": []
   },
   "outputs": [
    {
     "data": {
      "text/plain": [
       "array([[[80.44097 , 60.831722, 63.52504 , ..., 61.943893, 61.06346 ,\n",
       "         60.957535],\n",
       "        [32.79029 , 32.697254, 37.970364, ..., 34.412247, 33.67614 ,\n",
       "         34.355644],\n",
       "        [69.027405, 53.667057, 58.42234 , ..., 56.248848, 54.575783,\n",
       "         55.429523],\n",
       "        ...,\n",
       "        [35.173626, 15.171019, 16.157688, ..., 13.964776, 13.614999,\n",
       "         12.129333],\n",
       "        [47.037327, 25.74345 , 25.025452, ..., 25.935566, 25.985737,\n",
       "         24.56921 ],\n",
       "        [53.308434, 33.85254 , 33.719833, ..., 35.24823 , 34.471485,\n",
       "         33.627693]]], dtype=float32)"
      ]
     },
     "execution_count": 148,
     "metadata": {},
     "output_type": "execute_result"
    }
   ],
   "source": [
    "cv_net.setInput(input_data)\n",
    "cv_outputs = cv_net.forward()\n",
    "cv_outputs"
   ]
  },
  {
   "cell_type": "markdown",
   "id": "4f43a76b-991f-47a6-aac6-3aad135868fc",
   "metadata": {},
   "source": [
    "### Match the character"
   ]
  },
  {
   "cell_type": "code",
   "execution_count": 150,
   "id": "fbff4fb6-8817-42c0-8872-b91b428dd0a0",
   "metadata": {
    "tags": []
   },
   "outputs": [
    {
     "data": {
      "text/plain": [
       "'4.9.0'"
      ]
     },
     "execution_count": 150,
     "metadata": {},
     "output_type": "execute_result"
    }
   ],
   "source": [
    "cv2.__version__"
   ]
  },
  {
   "cell_type": "code",
   "execution_count": null,
   "id": "72bbe301-5d26-4224-9ad6-246adb825d8b",
   "metadata": {},
   "outputs": [],
   "source": []
  }
 ],
 "metadata": {
  "kernelspec": {
   "display_name": "Python 3 (ipykernel)",
   "language": "python",
   "name": "python3"
  },
  "language_info": {
   "codemirror_mode": {
    "name": "ipython",
    "version": 3
   },
   "file_extension": ".py",
   "mimetype": "text/x-python",
   "name": "python",
   "nbconvert_exporter": "python",
   "pygments_lexer": "ipython3",
   "version": "3.11.5"
  }
 },
 "nbformat": 4,
 "nbformat_minor": 5
}
